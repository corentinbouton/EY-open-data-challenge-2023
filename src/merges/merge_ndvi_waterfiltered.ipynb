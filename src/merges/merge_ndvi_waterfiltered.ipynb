{
 "cells": [
  {
   "cell_type": "code",
   "execution_count": 1,
   "metadata": {},
   "outputs": [],
   "source": [
    "import pandas as pd"
   ]
  },
  {
   "cell_type": "code",
   "execution_count": 6,
   "metadata": {},
   "outputs": [
    {
     "data": {
      "text/html": [
       "<div>\n",
       "<style scoped>\n",
       "    .dataframe tbody tr th:only-of-type {\n",
       "        vertical-align: middle;\n",
       "    }\n",
       "\n",
       "    .dataframe tbody tr th {\n",
       "        vertical-align: top;\n",
       "    }\n",
       "\n",
       "    .dataframe thead th {\n",
       "        text-align: right;\n",
       "    }\n",
       "</style>\n",
       "<table border=\"1\" class=\"dataframe\">\n",
       "  <thead>\n",
       "    <tr style=\"text-align: right;\">\n",
       "      <th></th>\n",
       "      <th>Latitude and Longitude</th>\n",
       "      <th>ndvi_mean</th>\n",
       "      <th>ndvi_max</th>\n",
       "      <th>ndvi_min</th>\n",
       "    </tr>\n",
       "  </thead>\n",
       "  <tbody>\n",
       "    <tr>\n",
       "      <th>0</th>\n",
       "      <td>(10.323727047081501, 105.2516346045924)</td>\n",
       "      <td>0.330673</td>\n",
       "      <td>0.491473</td>\n",
       "      <td>0.169872</td>\n",
       "    </tr>\n",
       "    <tr>\n",
       "      <th>1</th>\n",
       "      <td>(10.322364360592521, 105.27843410554115)</td>\n",
       "      <td>0.153116</td>\n",
       "      <td>0.235487</td>\n",
       "      <td>0.097839</td>\n",
       "    </tr>\n",
       "    <tr>\n",
       "      <th>2</th>\n",
       "      <td>(10.321455902933202, 105.25254306225168)</td>\n",
       "      <td>0.244170</td>\n",
       "      <td>0.404756</td>\n",
       "      <td>0.083584</td>\n",
       "    </tr>\n",
       "    <tr>\n",
       "      <th>3</th>\n",
       "      <td>(10.324181275911162, 105.25118037576274)</td>\n",
       "      <td>0.295116</td>\n",
       "      <td>0.459224</td>\n",
       "      <td>0.131007</td>\n",
       "    </tr>\n",
       "    <tr>\n",
       "      <th>4</th>\n",
       "      <td>(10.324635504740822, 105.27389181724476)</td>\n",
       "      <td>0.187920</td>\n",
       "      <td>0.347197</td>\n",
       "      <td>0.099205</td>\n",
       "    </tr>\n",
       "  </tbody>\n",
       "</table>\n",
       "</div>"
      ],
      "text/plain": [
       "                     Latitude and Longitude  ndvi_mean  ndvi_max  ndvi_min\n",
       "0   (10.323727047081501, 105.2516346045924)   0.330673  0.491473  0.169872\n",
       "1  (10.322364360592521, 105.27843410554115)   0.153116  0.235487  0.097839\n",
       "2  (10.321455902933202, 105.25254306225168)   0.244170  0.404756  0.083584\n",
       "3  (10.324181275911162, 105.25118037576274)   0.295116  0.459224  0.131007\n",
       "4  (10.324635504740822, 105.27389181724476)   0.187920  0.347197  0.099205"
      ]
     },
     "execution_count": 6,
     "metadata": {},
     "output_type": "execute_result"
    }
   ],
   "source": [
    "ndvi = pd.read_csv('../../data/ndvi/ndvi_march_bbox00004.csv')\n",
    "ndvi.fillna(0.7, inplace=True)\n",
    "\n",
    "ndvi.head()"
   ]
  },
  {
   "cell_type": "code",
   "execution_count": 7,
   "metadata": {},
   "outputs": [
    {
     "data": {
      "text/plain": [
       "Latitude and Longitude    0\n",
       "ndvi_mean                 0\n",
       "ndvi_max                  0\n",
       "ndvi_min                  0\n",
       "dtype: int64"
      ]
     },
     "execution_count": 7,
     "metadata": {},
     "output_type": "execute_result"
    }
   ],
   "source": [
    "ndvi.isna().sum()"
   ]
  },
  {
   "cell_type": "code",
   "execution_count": 8,
   "metadata": {},
   "outputs": [
    {
     "data": {
      "text/html": [
       "<div>\n",
       "<style scoped>\n",
       "    .dataframe tbody tr th:only-of-type {\n",
       "        vertical-align: middle;\n",
       "    }\n",
       "\n",
       "    .dataframe tbody tr th {\n",
       "        vertical-align: top;\n",
       "    }\n",
       "\n",
       "    .dataframe thead th {\n",
       "        text-align: right;\n",
       "    }\n",
       "</style>\n",
       "<table border=\"1\" class=\"dataframe\">\n",
       "  <thead>\n",
       "    <tr style=\"text-align: right;\">\n",
       "      <th></th>\n",
       "      <th>Latitude and Longitude</th>\n",
       "      <th>Class of Land</th>\n",
       "      <th>vh</th>\n",
       "      <th>vv</th>\n",
       "      <th>RVI</th>\n",
       "    </tr>\n",
       "  </thead>\n",
       "  <tbody>\n",
       "    <tr>\n",
       "      <th>0</th>\n",
       "      <td>(10.323727047081501, 105.2516346045924)</td>\n",
       "      <td>Rice</td>\n",
       "      <td>0.007940</td>\n",
       "      <td>0.229033</td>\n",
       "      <td>0.024531</td>\n",
       "    </tr>\n",
       "    <tr>\n",
       "      <th>1</th>\n",
       "      <td>(10.322364360592521, 105.27843410554115)</td>\n",
       "      <td>Rice</td>\n",
       "      <td>0.001958</td>\n",
       "      <td>0.026450</td>\n",
       "      <td>0.072372</td>\n",
       "    </tr>\n",
       "    <tr>\n",
       "      <th>2</th>\n",
       "      <td>(10.321455902933202, 105.25254306225168)</td>\n",
       "      <td>Rice</td>\n",
       "      <td>0.014930</td>\n",
       "      <td>0.176809</td>\n",
       "      <td>0.086913</td>\n",
       "    </tr>\n",
       "    <tr>\n",
       "      <th>3</th>\n",
       "      <td>(10.324181275911162, 105.25118037576274)</td>\n",
       "      <td>Rice</td>\n",
       "      <td>0.008318</td>\n",
       "      <td>0.067144</td>\n",
       "      <td>0.146389</td>\n",
       "    </tr>\n",
       "    <tr>\n",
       "      <th>4</th>\n",
       "      <td>(10.324635504740822, 105.27389181724476)</td>\n",
       "      <td>Rice</td>\n",
       "      <td>0.009465</td>\n",
       "      <td>0.199129</td>\n",
       "      <td>0.038663</td>\n",
       "    </tr>\n",
       "  </tbody>\n",
       "</table>\n",
       "</div>"
      ],
      "text/plain": [
       "                     Latitude and Longitude Class of Land        vh        vv  \\\n",
       "0   (10.323727047081501, 105.2516346045924)          Rice  0.007940  0.229033   \n",
       "1  (10.322364360592521, 105.27843410554115)          Rice  0.001958  0.026450   \n",
       "2  (10.321455902933202, 105.25254306225168)          Rice  0.014930  0.176809   \n",
       "3  (10.324181275911162, 105.25118037576274)          Rice  0.008318  0.067144   \n",
       "4  (10.324635504740822, 105.27389181724476)          Rice  0.009465  0.199129   \n",
       "\n",
       "        RVI  \n",
       "0  0.024531  \n",
       "1  0.072372  \n",
       "2  0.086913  \n",
       "3  0.146389  \n",
       "4  0.038663  "
      ]
     },
     "execution_count": 8,
     "metadata": {},
     "output_type": "execute_result"
    }
   ],
   "source": [
    "crop_data_ndvi = pd.read_csv('../../data/crop_data_bbox5x5.csv')\n",
    "\n",
    "crop_data_ndvi.head()"
   ]
  },
  {
   "cell_type": "code",
   "execution_count": 9,
   "metadata": {},
   "outputs": [
    {
     "data": {
      "text/html": [
       "<div>\n",
       "<style scoped>\n",
       "    .dataframe tbody tr th:only-of-type {\n",
       "        vertical-align: middle;\n",
       "    }\n",
       "\n",
       "    .dataframe tbody tr th {\n",
       "        vertical-align: top;\n",
       "    }\n",
       "\n",
       "    .dataframe thead th {\n",
       "        text-align: right;\n",
       "    }\n",
       "</style>\n",
       "<table border=\"1\" class=\"dataframe\">\n",
       "  <thead>\n",
       "    <tr style=\"text-align: right;\">\n",
       "      <th></th>\n",
       "      <th>Latitude and Longitude</th>\n",
       "      <th>Class of Land</th>\n",
       "      <th>vh</th>\n",
       "      <th>vv</th>\n",
       "      <th>RVI</th>\n",
       "      <th>ndvi_mean</th>\n",
       "      <th>ndvi_max</th>\n",
       "      <th>ndvi_min</th>\n",
       "    </tr>\n",
       "  </thead>\n",
       "  <tbody>\n",
       "    <tr>\n",
       "      <th>0</th>\n",
       "      <td>(10.323727047081501, 105.2516346045924)</td>\n",
       "      <td>Rice</td>\n",
       "      <td>0.007940</td>\n",
       "      <td>0.229033</td>\n",
       "      <td>0.024531</td>\n",
       "      <td>0.330673</td>\n",
       "      <td>0.491473</td>\n",
       "      <td>0.169872</td>\n",
       "    </tr>\n",
       "    <tr>\n",
       "      <th>1</th>\n",
       "      <td>(10.322364360592521, 105.27843410554115)</td>\n",
       "      <td>Rice</td>\n",
       "      <td>0.001958</td>\n",
       "      <td>0.026450</td>\n",
       "      <td>0.072372</td>\n",
       "      <td>0.153116</td>\n",
       "      <td>0.235487</td>\n",
       "      <td>0.097839</td>\n",
       "    </tr>\n",
       "    <tr>\n",
       "      <th>2</th>\n",
       "      <td>(10.321455902933202, 105.25254306225168)</td>\n",
       "      <td>Rice</td>\n",
       "      <td>0.014930</td>\n",
       "      <td>0.176809</td>\n",
       "      <td>0.086913</td>\n",
       "      <td>0.244170</td>\n",
       "      <td>0.404756</td>\n",
       "      <td>0.083584</td>\n",
       "    </tr>\n",
       "    <tr>\n",
       "      <th>3</th>\n",
       "      <td>(10.324181275911162, 105.25118037576274)</td>\n",
       "      <td>Rice</td>\n",
       "      <td>0.008318</td>\n",
       "      <td>0.067144</td>\n",
       "      <td>0.146389</td>\n",
       "      <td>0.295116</td>\n",
       "      <td>0.459224</td>\n",
       "      <td>0.131007</td>\n",
       "    </tr>\n",
       "    <tr>\n",
       "      <th>4</th>\n",
       "      <td>(10.324635504740822, 105.27389181724476)</td>\n",
       "      <td>Rice</td>\n",
       "      <td>0.009465</td>\n",
       "      <td>0.199129</td>\n",
       "      <td>0.038663</td>\n",
       "      <td>0.187920</td>\n",
       "      <td>0.347197</td>\n",
       "      <td>0.099205</td>\n",
       "    </tr>\n",
       "  </tbody>\n",
       "</table>\n",
       "</div>"
      ],
      "text/plain": [
       "                     Latitude and Longitude Class of Land        vh        vv  \\\n",
       "0   (10.323727047081501, 105.2516346045924)          Rice  0.007940  0.229033   \n",
       "1  (10.322364360592521, 105.27843410554115)          Rice  0.001958  0.026450   \n",
       "2  (10.321455902933202, 105.25254306225168)          Rice  0.014930  0.176809   \n",
       "3  (10.324181275911162, 105.25118037576274)          Rice  0.008318  0.067144   \n",
       "4  (10.324635504740822, 105.27389181724476)          Rice  0.009465  0.199129   \n",
       "\n",
       "        RVI  ndvi_mean  ndvi_max  ndvi_min  \n",
       "0  0.024531   0.330673  0.491473  0.169872  \n",
       "1  0.072372   0.153116  0.235487  0.097839  \n",
       "2  0.086913   0.244170  0.404756  0.083584  \n",
       "3  0.146389   0.295116  0.459224  0.131007  \n",
       "4  0.038663   0.187920  0.347197  0.099205  "
      ]
     },
     "execution_count": 9,
     "metadata": {},
     "output_type": "execute_result"
    }
   ],
   "source": [
    "data = pd.merge(crop_data_ndvi, ndvi, on='Latitude and Longitude')\n",
    "\n",
    "data.head()"
   ]
  },
  {
   "cell_type": "code",
   "execution_count": 10,
   "metadata": {},
   "outputs": [
    {
     "data": {
      "text/plain": [
       "(600, 8)"
      ]
     },
     "execution_count": 10,
     "metadata": {},
     "output_type": "execute_result"
    }
   ],
   "source": [
    "data.shape"
   ]
  },
  {
   "cell_type": "code",
   "execution_count": 18,
   "metadata": {},
   "outputs": [],
   "source": [
    "data.to_csv('../../data/ndvi/crop_data_ndvi_march_bbox5x5.csv', index=False)"
   ]
  }
 ],
 "metadata": {
  "kernelspec": {
   "display_name": "Python 3",
   "language": "python",
   "name": "python3"
  },
  "language_info": {
   "codemirror_mode": {
    "name": "ipython",
    "version": 3
   },
   "file_extension": ".py",
   "mimetype": "text/x-python",
   "name": "python",
   "nbconvert_exporter": "python",
   "pygments_lexer": "ipython3",
   "version": "3.10.7"
  },
  "orig_nbformat": 4
 },
 "nbformat": 4,
 "nbformat_minor": 2
}
