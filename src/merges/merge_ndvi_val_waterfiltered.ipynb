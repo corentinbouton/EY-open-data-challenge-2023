{
 "cells": [
  {
   "cell_type": "code",
   "execution_count": 1,
   "metadata": {},
   "outputs": [],
   "source": [
    "import pandas as pd"
   ]
  },
  {
   "cell_type": "code",
   "execution_count": 2,
   "metadata": {},
   "outputs": [
    {
     "data": {
      "text/html": [
       "<div>\n",
       "<style scoped>\n",
       "    .dataframe tbody tr th:only-of-type {\n",
       "        vertical-align: middle;\n",
       "    }\n",
       "\n",
       "    .dataframe tbody tr th {\n",
       "        vertical-align: top;\n",
       "    }\n",
       "\n",
       "    .dataframe thead th {\n",
       "        text-align: right;\n",
       "    }\n",
       "</style>\n",
       "<table border=\"1\" class=\"dataframe\">\n",
       "  <thead>\n",
       "    <tr style=\"text-align: right;\">\n",
       "      <th></th>\n",
       "      <th>Latitude and Longitude</th>\n",
       "      <th>ndvi_mean</th>\n",
       "      <th>ndvi_max</th>\n",
       "      <th>ndvi_min</th>\n",
       "    </tr>\n",
       "  </thead>\n",
       "  <tbody>\n",
       "    <tr>\n",
       "      <th>0</th>\n",
       "      <td>(10.18019073690894, 105.32022315786804)</td>\n",
       "      <td>0.070417</td>\n",
       "      <td>0.138828</td>\n",
       "      <td>-0.001752</td>\n",
       "    </tr>\n",
       "    <tr>\n",
       "      <th>1</th>\n",
       "      <td>(10.561107033461816, 105.12772097986661)</td>\n",
       "      <td>0.170399</td>\n",
       "      <td>0.316607</td>\n",
       "      <td>0.043861</td>\n",
       "    </tr>\n",
       "    <tr>\n",
       "      <th>2</th>\n",
       "      <td>(10.623790611954897, 105.13771401411867)</td>\n",
       "      <td>0.711041</td>\n",
       "      <td>0.751899</td>\n",
       "      <td>0.684168</td>\n",
       "    </tr>\n",
       "    <tr>\n",
       "      <th>3</th>\n",
       "      <td>(10.583364246115156, 105.23946127195805)</td>\n",
       "      <td>0.700000</td>\n",
       "      <td>0.700000</td>\n",
       "      <td>0.700000</td>\n",
       "    </tr>\n",
       "    <tr>\n",
       "      <th>4</th>\n",
       "      <td>(10.20744446668854, 105.26844107128906)</td>\n",
       "      <td>0.015140</td>\n",
       "      <td>0.032720</td>\n",
       "      <td>-0.002439</td>\n",
       "    </tr>\n",
       "  </tbody>\n",
       "</table>\n",
       "</div>"
      ],
      "text/plain": [
       "                     Latitude and Longitude  ndvi_mean  ndvi_max  ndvi_min\n",
       "0   (10.18019073690894, 105.32022315786804)   0.070417  0.138828 -0.001752\n",
       "1  (10.561107033461816, 105.12772097986661)   0.170399  0.316607  0.043861\n",
       "2  (10.623790611954897, 105.13771401411867)   0.711041  0.751899  0.684168\n",
       "3  (10.583364246115156, 105.23946127195805)   0.700000  0.700000  0.700000\n",
       "4   (10.20744446668854, 105.26844107128906)   0.015140  0.032720 -0.002439"
      ]
     },
     "execution_count": 2,
     "metadata": {},
     "output_type": "execute_result"
    }
   ],
   "source": [
    "ndvi = pd.read_csv('../../data/ndvi/ndvi_val_march_bbox00004.csv')\n",
    "ndvi.fillna(0.7, inplace=True) # NaNs for water, replaced by 0.7 (way above rice levels for this time of year)\n",
    "\n",
    "ndvi.head()"
   ]
  },
  {
   "cell_type": "code",
   "execution_count": 3,
   "metadata": {},
   "outputs": [
    {
     "data": {
      "text/html": [
       "<div>\n",
       "<style scoped>\n",
       "    .dataframe tbody tr th:only-of-type {\n",
       "        vertical-align: middle;\n",
       "    }\n",
       "\n",
       "    .dataframe tbody tr th {\n",
       "        vertical-align: top;\n",
       "    }\n",
       "\n",
       "    .dataframe thead th {\n",
       "        text-align: right;\n",
       "    }\n",
       "</style>\n",
       "<table border=\"1\" class=\"dataframe\">\n",
       "  <thead>\n",
       "    <tr style=\"text-align: right;\">\n",
       "      <th></th>\n",
       "      <th>Latitude and Longitude</th>\n",
       "      <th>vh</th>\n",
       "      <th>vv</th>\n",
       "      <th>RVI</th>\n",
       "    </tr>\n",
       "  </thead>\n",
       "  <tbody>\n",
       "    <tr>\n",
       "      <th>0</th>\n",
       "      <td>(10.18019073690894, 105.32022315786804)</td>\n",
       "      <td>0.005058</td>\n",
       "      <td>0.383090</td>\n",
       "      <td>0.005950</td>\n",
       "    </tr>\n",
       "    <tr>\n",
       "      <th>1</th>\n",
       "      <td>(10.561107033461816, 105.12772097986661)</td>\n",
       "      <td>0.001983</td>\n",
       "      <td>0.081168</td>\n",
       "      <td>0.014730</td>\n",
       "    </tr>\n",
       "    <tr>\n",
       "      <th>2</th>\n",
       "      <td>(10.623790611954897, 105.13771401411867)</td>\n",
       "      <td>0.017813</td>\n",
       "      <td>0.111093</td>\n",
       "      <td>0.205469</td>\n",
       "    </tr>\n",
       "    <tr>\n",
       "      <th>3</th>\n",
       "      <td>(10.583364246115156, 105.23946127195805)</td>\n",
       "      <td>0.003966</td>\n",
       "      <td>0.006158</td>\n",
       "      <td>0.980703</td>\n",
       "    </tr>\n",
       "    <tr>\n",
       "      <th>4</th>\n",
       "      <td>(10.20744446668854, 105.26844107128906)</td>\n",
       "      <td>0.020260</td>\n",
       "      <td>0.159520</td>\n",
       "      <td>0.151326</td>\n",
       "    </tr>\n",
       "  </tbody>\n",
       "</table>\n",
       "</div>"
      ],
      "text/plain": [
       "                     Latitude and Longitude        vh        vv       RVI\n",
       "0   (10.18019073690894, 105.32022315786804)  0.005058  0.383090  0.005950\n",
       "1  (10.561107033461816, 105.12772097986661)  0.001983  0.081168  0.014730\n",
       "2  (10.623790611954897, 105.13771401411867)  0.017813  0.111093  0.205469\n",
       "3  (10.583364246115156, 105.23946127195805)  0.003966  0.006158  0.980703\n",
       "4   (10.20744446668854, 105.26844107128906)  0.020260  0.159520  0.151326"
      ]
     },
     "execution_count": 3,
     "metadata": {},
     "output_type": "execute_result"
    }
   ],
   "source": [
    "validation_data_ndvi = pd.read_csv('../../data/validation_data_bbox5x5.csv')\n",
    "\n",
    "validation_data_ndvi.head()"
   ]
  },
  {
   "cell_type": "code",
   "execution_count": 4,
   "metadata": {},
   "outputs": [
    {
     "data": {
      "text/html": [
       "<div>\n",
       "<style scoped>\n",
       "    .dataframe tbody tr th:only-of-type {\n",
       "        vertical-align: middle;\n",
       "    }\n",
       "\n",
       "    .dataframe tbody tr th {\n",
       "        vertical-align: top;\n",
       "    }\n",
       "\n",
       "    .dataframe thead th {\n",
       "        text-align: right;\n",
       "    }\n",
       "</style>\n",
       "<table border=\"1\" class=\"dataframe\">\n",
       "  <thead>\n",
       "    <tr style=\"text-align: right;\">\n",
       "      <th></th>\n",
       "      <th>Latitude and Longitude</th>\n",
       "      <th>vh</th>\n",
       "      <th>vv</th>\n",
       "      <th>RVI</th>\n",
       "      <th>ndvi_mean</th>\n",
       "      <th>ndvi_max</th>\n",
       "      <th>ndvi_min</th>\n",
       "    </tr>\n",
       "  </thead>\n",
       "  <tbody>\n",
       "    <tr>\n",
       "      <th>0</th>\n",
       "      <td>(10.18019073690894, 105.32022315786804)</td>\n",
       "      <td>0.005058</td>\n",
       "      <td>0.383090</td>\n",
       "      <td>0.005950</td>\n",
       "      <td>0.070417</td>\n",
       "      <td>0.138828</td>\n",
       "      <td>-0.001752</td>\n",
       "    </tr>\n",
       "    <tr>\n",
       "      <th>1</th>\n",
       "      <td>(10.561107033461816, 105.12772097986661)</td>\n",
       "      <td>0.001983</td>\n",
       "      <td>0.081168</td>\n",
       "      <td>0.014730</td>\n",
       "      <td>0.170399</td>\n",
       "      <td>0.316607</td>\n",
       "      <td>0.043861</td>\n",
       "    </tr>\n",
       "    <tr>\n",
       "      <th>2</th>\n",
       "      <td>(10.623790611954897, 105.13771401411867)</td>\n",
       "      <td>0.017813</td>\n",
       "      <td>0.111093</td>\n",
       "      <td>0.205469</td>\n",
       "      <td>0.711041</td>\n",
       "      <td>0.751899</td>\n",
       "      <td>0.684168</td>\n",
       "    </tr>\n",
       "    <tr>\n",
       "      <th>3</th>\n",
       "      <td>(10.583364246115156, 105.23946127195805)</td>\n",
       "      <td>0.003966</td>\n",
       "      <td>0.006158</td>\n",
       "      <td>0.980703</td>\n",
       "      <td>0.700000</td>\n",
       "      <td>0.700000</td>\n",
       "      <td>0.700000</td>\n",
       "    </tr>\n",
       "    <tr>\n",
       "      <th>4</th>\n",
       "      <td>(10.20744446668854, 105.26844107128906)</td>\n",
       "      <td>0.020260</td>\n",
       "      <td>0.159520</td>\n",
       "      <td>0.151326</td>\n",
       "      <td>0.015140</td>\n",
       "      <td>0.032720</td>\n",
       "      <td>-0.002439</td>\n",
       "    </tr>\n",
       "  </tbody>\n",
       "</table>\n",
       "</div>"
      ],
      "text/plain": [
       "                     Latitude and Longitude        vh        vv       RVI  \\\n",
       "0   (10.18019073690894, 105.32022315786804)  0.005058  0.383090  0.005950   \n",
       "1  (10.561107033461816, 105.12772097986661)  0.001983  0.081168  0.014730   \n",
       "2  (10.623790611954897, 105.13771401411867)  0.017813  0.111093  0.205469   \n",
       "3  (10.583364246115156, 105.23946127195805)  0.003966  0.006158  0.980703   \n",
       "4   (10.20744446668854, 105.26844107128906)  0.020260  0.159520  0.151326   \n",
       "\n",
       "   ndvi_mean  ndvi_max  ndvi_min  \n",
       "0   0.070417  0.138828 -0.001752  \n",
       "1   0.170399  0.316607  0.043861  \n",
       "2   0.711041  0.751899  0.684168  \n",
       "3   0.700000  0.700000  0.700000  \n",
       "4   0.015140  0.032720 -0.002439  "
      ]
     },
     "execution_count": 4,
     "metadata": {},
     "output_type": "execute_result"
    }
   ],
   "source": [
    "data = pd.merge(validation_data_ndvi, ndvi, on='Latitude and Longitude')\n",
    "\n",
    "data.head()"
   ]
  },
  {
   "cell_type": "code",
   "execution_count": 5,
   "metadata": {},
   "outputs": [
    {
     "data": {
      "text/plain": [
       "(250, 7)"
      ]
     },
     "execution_count": 5,
     "metadata": {},
     "output_type": "execute_result"
    }
   ],
   "source": [
    "data.shape"
   ]
  },
  {
   "cell_type": "code",
   "execution_count": 15,
   "metadata": {},
   "outputs": [],
   "source": [
    "data.to_csv('../../data/ndvi/validation_data_ndvi_march_bbox5x5.csv', index=False)"
   ]
  }
 ],
 "metadata": {
  "kernelspec": {
   "display_name": "Python 3",
   "language": "python",
   "name": "python3"
  },
  "language_info": {
   "codemirror_mode": {
    "name": "ipython",
    "version": 3
   },
   "file_extension": ".py",
   "mimetype": "text/x-python",
   "name": "python",
   "nbconvert_exporter": "python",
   "pygments_lexer": "ipython3",
   "version": "3.10.7"
  },
  "orig_nbformat": 4
 },
 "nbformat": 4,
 "nbformat_minor": 2
}
