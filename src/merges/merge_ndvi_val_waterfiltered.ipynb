{
 "cells": [
  {
   "cell_type": "code",
   "execution_count": 1,
   "metadata": {},
   "outputs": [],
   "source": [
    "import pandas as pd"
   ]
  },
  {
   "cell_type": "code",
   "execution_count": 2,
   "metadata": {},
   "outputs": [
    {
     "data": {
      "text/html": [
       "<div>\n",
       "<style scoped>\n",
       "    .dataframe tbody tr th:only-of-type {\n",
       "        vertical-align: middle;\n",
       "    }\n",
       "\n",
       "    .dataframe tbody tr th {\n",
       "        vertical-align: top;\n",
       "    }\n",
       "\n",
       "    .dataframe thead th {\n",
       "        text-align: right;\n",
       "    }\n",
       "</style>\n",
       "<table border=\"1\" class=\"dataframe\">\n",
       "  <thead>\n",
       "    <tr style=\"text-align: right;\">\n",
       "      <th></th>\n",
       "      <th>Latitude and Longitude</th>\n",
       "      <th>ndvi_mean</th>\n",
       "      <th>ndvi_max</th>\n",
       "      <th>ndvi_min</th>\n",
       "    </tr>\n",
       "  </thead>\n",
       "  <tbody>\n",
       "    <tr>\n",
       "      <th>0</th>\n",
       "      <td>(10.18019073690894, 105.32022315786804)</td>\n",
       "      <td>0.094402</td>\n",
       "      <td>0.166159</td>\n",
       "      <td>0.053875</td>\n",
       "    </tr>\n",
       "    <tr>\n",
       "      <th>1</th>\n",
       "      <td>(10.561107033461816, 105.12772097986661)</td>\n",
       "      <td>0.171151</td>\n",
       "      <td>0.265981</td>\n",
       "      <td>0.124449</td>\n",
       "    </tr>\n",
       "    <tr>\n",
       "      <th>2</th>\n",
       "      <td>(10.623790611954897, 105.13771401411867)</td>\n",
       "      <td>0.597735</td>\n",
       "      <td>0.742831</td>\n",
       "      <td>0.433491</td>\n",
       "    </tr>\n",
       "    <tr>\n",
       "      <th>3</th>\n",
       "      <td>(10.583364246115156, 105.23946127195805)</td>\n",
       "      <td>0.094564</td>\n",
       "      <td>0.546004</td>\n",
       "      <td>-0.091027</td>\n",
       "    </tr>\n",
       "    <tr>\n",
       "      <th>4</th>\n",
       "      <td>(10.20744446668854, 105.26844107128906)</td>\n",
       "      <td>0.099366</td>\n",
       "      <td>0.138012</td>\n",
       "      <td>0.075622</td>\n",
       "    </tr>\n",
       "  </tbody>\n",
       "</table>\n",
       "</div>"
      ],
      "text/plain": [
       "                     Latitude and Longitude  ndvi_mean  ndvi_max  ndvi_min\n",
       "0   (10.18019073690894, 105.32022315786804)   0.094402  0.166159  0.053875\n",
       "1  (10.561107033461816, 105.12772097986661)   0.171151  0.265981  0.124449\n",
       "2  (10.623790611954897, 105.13771401411867)   0.597735  0.742831  0.433491\n",
       "3  (10.583364246115156, 105.23946127195805)   0.094564  0.546004 -0.091027\n",
       "4   (10.20744446668854, 105.26844107128906)   0.099366  0.138012  0.075622"
      ]
     },
     "execution_count": 2,
     "metadata": {},
     "output_type": "execute_result"
    }
   ],
   "source": [
    "ndvi = pd.read_csv('../../data/ndvi/ndvi_val_waterfiltered_march0005.csv')\n",
    "\n",
    "ndvi.head()"
   ]
  },
  {
   "cell_type": "code",
   "execution_count": 3,
   "metadata": {},
   "outputs": [
    {
     "data": {
      "text/html": [
       "<div>\n",
       "<style scoped>\n",
       "    .dataframe tbody tr th:only-of-type {\n",
       "        vertical-align: middle;\n",
       "    }\n",
       "\n",
       "    .dataframe tbody tr th {\n",
       "        vertical-align: top;\n",
       "    }\n",
       "\n",
       "    .dataframe thead th {\n",
       "        text-align: right;\n",
       "    }\n",
       "</style>\n",
       "<table border=\"1\" class=\"dataframe\">\n",
       "  <thead>\n",
       "    <tr style=\"text-align: right;\">\n",
       "      <th></th>\n",
       "      <th>Latitude and Longitude</th>\n",
       "      <th>vh</th>\n",
       "      <th>vv</th>\n",
       "      <th>RVI</th>\n",
       "    </tr>\n",
       "  </thead>\n",
       "  <tbody>\n",
       "    <tr>\n",
       "      <th>0</th>\n",
       "      <td>(10.18019073690894, 105.32022315786804)</td>\n",
       "      <td>0.007541</td>\n",
       "      <td>0.230875</td>\n",
       "      <td>0.022502</td>\n",
       "    </tr>\n",
       "    <tr>\n",
       "      <th>1</th>\n",
       "      <td>(10.561107033461816, 105.12772097986661)</td>\n",
       "      <td>0.004003</td>\n",
       "      <td>0.083652</td>\n",
       "      <td>0.039041</td>\n",
       "    </tr>\n",
       "    <tr>\n",
       "      <th>2</th>\n",
       "      <td>(10.623790611954897, 105.13771401411867)</td>\n",
       "      <td>0.027154</td>\n",
       "      <td>0.186894</td>\n",
       "      <td>0.180737</td>\n",
       "    </tr>\n",
       "    <tr>\n",
       "      <th>3</th>\n",
       "      <td>(10.583364246115156, 105.23946127195805)</td>\n",
       "      <td>0.001572</td>\n",
       "      <td>0.009353</td>\n",
       "      <td>0.218368</td>\n",
       "    </tr>\n",
       "    <tr>\n",
       "      <th>4</th>\n",
       "      <td>(10.20744446668854, 105.26844107128906)</td>\n",
       "      <td>0.028073</td>\n",
       "      <td>0.150525</td>\n",
       "      <td>0.249271</td>\n",
       "    </tr>\n",
       "  </tbody>\n",
       "</table>\n",
       "</div>"
      ],
      "text/plain": [
       "                     Latitude and Longitude        vh        vv       RVI\n",
       "0   (10.18019073690894, 105.32022315786804)  0.007541  0.230875  0.022502\n",
       "1  (10.561107033461816, 105.12772097986661)  0.004003  0.083652  0.039041\n",
       "2  (10.623790611954897, 105.13771401411867)  0.027154  0.186894  0.180737\n",
       "3  (10.583364246115156, 105.23946127195805)  0.001572  0.009353  0.218368\n",
       "4   (10.20744446668854, 105.26844107128906)  0.028073  0.150525  0.249271"
      ]
     },
     "execution_count": 3,
     "metadata": {},
     "output_type": "execute_result"
    }
   ],
   "source": [
    "validation_data_ndvi = pd.read_csv('../../data/ndvi/validation_data_ndvi.csv').drop(columns=['ndvi_mean', 'ndvi_max', 'ndvi_min'])\n",
    "\n",
    "validation_data_ndvi.head()"
   ]
  },
  {
   "cell_type": "code",
   "execution_count": 4,
   "metadata": {},
   "outputs": [
    {
     "data": {
      "text/html": [
       "<div>\n",
       "<style scoped>\n",
       "    .dataframe tbody tr th:only-of-type {\n",
       "        vertical-align: middle;\n",
       "    }\n",
       "\n",
       "    .dataframe tbody tr th {\n",
       "        vertical-align: top;\n",
       "    }\n",
       "\n",
       "    .dataframe thead th {\n",
       "        text-align: right;\n",
       "    }\n",
       "</style>\n",
       "<table border=\"1\" class=\"dataframe\">\n",
       "  <thead>\n",
       "    <tr style=\"text-align: right;\">\n",
       "      <th></th>\n",
       "      <th>Latitude and Longitude</th>\n",
       "      <th>vh</th>\n",
       "      <th>vv</th>\n",
       "      <th>RVI</th>\n",
       "      <th>ndvi_mean</th>\n",
       "      <th>ndvi_max</th>\n",
       "      <th>ndvi_min</th>\n",
       "    </tr>\n",
       "  </thead>\n",
       "  <tbody>\n",
       "    <tr>\n",
       "      <th>0</th>\n",
       "      <td>(10.18019073690894, 105.32022315786804)</td>\n",
       "      <td>0.007541</td>\n",
       "      <td>0.230875</td>\n",
       "      <td>0.022502</td>\n",
       "      <td>0.094402</td>\n",
       "      <td>0.166159</td>\n",
       "      <td>0.053875</td>\n",
       "    </tr>\n",
       "    <tr>\n",
       "      <th>1</th>\n",
       "      <td>(10.561107033461816, 105.12772097986661)</td>\n",
       "      <td>0.004003</td>\n",
       "      <td>0.083652</td>\n",
       "      <td>0.039041</td>\n",
       "      <td>0.171151</td>\n",
       "      <td>0.265981</td>\n",
       "      <td>0.124449</td>\n",
       "    </tr>\n",
       "    <tr>\n",
       "      <th>2</th>\n",
       "      <td>(10.623790611954897, 105.13771401411867)</td>\n",
       "      <td>0.027154</td>\n",
       "      <td>0.186894</td>\n",
       "      <td>0.180737</td>\n",
       "      <td>0.597735</td>\n",
       "      <td>0.742831</td>\n",
       "      <td>0.433491</td>\n",
       "    </tr>\n",
       "    <tr>\n",
       "      <th>3</th>\n",
       "      <td>(10.583364246115156, 105.23946127195805)</td>\n",
       "      <td>0.001572</td>\n",
       "      <td>0.009353</td>\n",
       "      <td>0.218368</td>\n",
       "      <td>0.094564</td>\n",
       "      <td>0.546004</td>\n",
       "      <td>-0.091027</td>\n",
       "    </tr>\n",
       "    <tr>\n",
       "      <th>4</th>\n",
       "      <td>(10.20744446668854, 105.26844107128906)</td>\n",
       "      <td>0.028073</td>\n",
       "      <td>0.150525</td>\n",
       "      <td>0.249271</td>\n",
       "      <td>0.099366</td>\n",
       "      <td>0.138012</td>\n",
       "      <td>0.075622</td>\n",
       "    </tr>\n",
       "  </tbody>\n",
       "</table>\n",
       "</div>"
      ],
      "text/plain": [
       "                     Latitude and Longitude        vh        vv       RVI  \\\n",
       "0   (10.18019073690894, 105.32022315786804)  0.007541  0.230875  0.022502   \n",
       "1  (10.561107033461816, 105.12772097986661)  0.004003  0.083652  0.039041   \n",
       "2  (10.623790611954897, 105.13771401411867)  0.027154  0.186894  0.180737   \n",
       "3  (10.583364246115156, 105.23946127195805)  0.001572  0.009353  0.218368   \n",
       "4   (10.20744446668854, 105.26844107128906)  0.028073  0.150525  0.249271   \n",
       "\n",
       "   ndvi_mean  ndvi_max  ndvi_min  \n",
       "0   0.094402  0.166159  0.053875  \n",
       "1   0.171151  0.265981  0.124449  \n",
       "2   0.597735  0.742831  0.433491  \n",
       "3   0.094564  0.546004 -0.091027  \n",
       "4   0.099366  0.138012  0.075622  "
      ]
     },
     "execution_count": 4,
     "metadata": {},
     "output_type": "execute_result"
    }
   ],
   "source": [
    "data = pd.merge(validation_data_ndvi, ndvi, on='Latitude and Longitude')\n",
    "\n",
    "data.head()"
   ]
  },
  {
   "cell_type": "code",
   "execution_count": 5,
   "metadata": {},
   "outputs": [
    {
     "data": {
      "text/plain": [
       "(250, 7)"
      ]
     },
     "execution_count": 5,
     "metadata": {},
     "output_type": "execute_result"
    }
   ],
   "source": [
    "data.shape"
   ]
  },
  {
   "cell_type": "code",
   "execution_count": 6,
   "metadata": {},
   "outputs": [],
   "source": [
    "data.to_csv('../../data/ndvi/validation_data_ndvi_waterfiltered_march_bbox0005.csv', index=False)"
   ]
  }
 ],
 "metadata": {
  "kernelspec": {
   "display_name": "Python 3",
   "language": "python",
   "name": "python3"
  },
  "language_info": {
   "codemirror_mode": {
    "name": "ipython",
    "version": 3
   },
   "file_extension": ".py",
   "mimetype": "text/x-python",
   "name": "python",
   "nbconvert_exporter": "python",
   "pygments_lexer": "ipython3",
   "version": "3.10.7"
  },
  "orig_nbformat": 4
 },
 "nbformat": 4,
 "nbformat_minor": 2
}
