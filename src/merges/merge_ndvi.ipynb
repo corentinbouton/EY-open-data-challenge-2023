{
 "cells": [
  {
   "cell_type": "code",
   "execution_count": 1,
   "metadata": {},
   "outputs": [],
   "source": [
    "import pandas as pd"
   ]
  },
  {
   "cell_type": "code",
   "execution_count": 2,
   "metadata": {},
   "outputs": [
    {
     "data": {
      "text/html": [
       "<div>\n",
       "<style scoped>\n",
       "    .dataframe tbody tr th:only-of-type {\n",
       "        vertical-align: middle;\n",
       "    }\n",
       "\n",
       "    .dataframe tbody tr th {\n",
       "        vertical-align: top;\n",
       "    }\n",
       "\n",
       "    .dataframe thead th {\n",
       "        text-align: right;\n",
       "    }\n",
       "</style>\n",
       "<table border=\"1\" class=\"dataframe\">\n",
       "  <thead>\n",
       "    <tr style=\"text-align: right;\">\n",
       "      <th></th>\n",
       "      <th>Latitude and Longitude</th>\n",
       "      <th>Class of Land</th>\n",
       "      <th>vh</th>\n",
       "      <th>vv</th>\n",
       "      <th>RVI</th>\n",
       "    </tr>\n",
       "  </thead>\n",
       "  <tbody>\n",
       "    <tr>\n",
       "      <th>0</th>\n",
       "      <td>(10.323727047081501, 105.2516346045924)</td>\n",
       "      <td>Rice</td>\n",
       "      <td>0.004257</td>\n",
       "      <td>0.136713</td>\n",
       "      <td>0.020992</td>\n",
       "    </tr>\n",
       "    <tr>\n",
       "      <th>1</th>\n",
       "      <td>(10.322364360592521, 105.27843410554115)</td>\n",
       "      <td>Rice</td>\n",
       "      <td>0.005324</td>\n",
       "      <td>0.008367</td>\n",
       "      <td>0.970000</td>\n",
       "    </tr>\n",
       "    <tr>\n",
       "      <th>2</th>\n",
       "      <td>(10.321455902933202, 105.25254306225168)</td>\n",
       "      <td>Rice</td>\n",
       "      <td>0.012065</td>\n",
       "      <td>0.103548</td>\n",
       "      <td>0.134852</td>\n",
       "    </tr>\n",
       "    <tr>\n",
       "      <th>3</th>\n",
       "      <td>(10.324181275911162, 105.25118037576274)</td>\n",
       "      <td>Rice</td>\n",
       "      <td>0.004077</td>\n",
       "      <td>0.112445</td>\n",
       "      <td>0.026182</td>\n",
       "    </tr>\n",
       "    <tr>\n",
       "      <th>4</th>\n",
       "      <td>(10.324635504740822, 105.27389181724476)</td>\n",
       "      <td>Rice</td>\n",
       "      <td>0.001757</td>\n",
       "      <td>0.041582</td>\n",
       "      <td>0.032664</td>\n",
       "    </tr>\n",
       "  </tbody>\n",
       "</table>\n",
       "</div>"
      ],
      "text/plain": [
       "                     Latitude and Longitude Class of Land        vh        vv  \\\n",
       "0   (10.323727047081501, 105.2516346045924)          Rice  0.004257  0.136713   \n",
       "1  (10.322364360592521, 105.27843410554115)          Rice  0.005324  0.008367   \n",
       "2  (10.321455902933202, 105.25254306225168)          Rice  0.012065  0.103548   \n",
       "3  (10.324181275911162, 105.25118037576274)          Rice  0.004077  0.112445   \n",
       "4  (10.324635504740822, 105.27389181724476)          Rice  0.001757  0.041582   \n",
       "\n",
       "        RVI  \n",
       "0  0.020992  \n",
       "1  0.970000  \n",
       "2  0.134852  \n",
       "3  0.026182  \n",
       "4  0.032664  "
      ]
     },
     "execution_count": 2,
     "metadata": {},
     "output_type": "execute_result"
    }
   ],
   "source": [
    "crop_data_ndvi = pd.read_csv('./data/ndvi/crop_data_ndvi.csv')\n",
    "crop_data_ndvi.drop(columns=['ndvi'], inplace=True)\n",
    "\n",
    "crop_data_ndvi.head()"
   ]
  },
  {
   "cell_type": "code",
   "execution_count": 3,
   "metadata": {},
   "outputs": [
    {
     "data": {
      "text/html": [
       "<div>\n",
       "<style scoped>\n",
       "    .dataframe tbody tr th:only-of-type {\n",
       "        vertical-align: middle;\n",
       "    }\n",
       "\n",
       "    .dataframe tbody tr th {\n",
       "        vertical-align: top;\n",
       "    }\n",
       "\n",
       "    .dataframe thead th {\n",
       "        text-align: right;\n",
       "    }\n",
       "</style>\n",
       "<table border=\"1\" class=\"dataframe\">\n",
       "  <thead>\n",
       "    <tr style=\"text-align: right;\">\n",
       "      <th></th>\n",
       "      <th>ndvi_mean</th>\n",
       "      <th>ndvi_max</th>\n",
       "      <th>ndvi_min</th>\n",
       "    </tr>\n",
       "  </thead>\n",
       "  <tbody>\n",
       "    <tr>\n",
       "      <th>0</th>\n",
       "      <td>0.557887</td>\n",
       "      <td>0.856293</td>\n",
       "      <td>0.083284</td>\n",
       "    </tr>\n",
       "    <tr>\n",
       "      <th>1</th>\n",
       "      <td>0.621829</td>\n",
       "      <td>0.815575</td>\n",
       "      <td>0.124080</td>\n",
       "    </tr>\n",
       "    <tr>\n",
       "      <th>2</th>\n",
       "      <td>0.571163</td>\n",
       "      <td>0.855189</td>\n",
       "      <td>0.081872</td>\n",
       "    </tr>\n",
       "    <tr>\n",
       "      <th>3</th>\n",
       "      <td>0.555441</td>\n",
       "      <td>0.856934</td>\n",
       "      <td>0.079025</td>\n",
       "    </tr>\n",
       "    <tr>\n",
       "      <th>4</th>\n",
       "      <td>0.619721</td>\n",
       "      <td>0.831970</td>\n",
       "      <td>0.112539</td>\n",
       "    </tr>\n",
       "  </tbody>\n",
       "</table>\n",
       "</div>"
      ],
      "text/plain": [
       "   ndvi_mean  ndvi_max  ndvi_min\n",
       "0   0.557887  0.856293  0.083284\n",
       "1   0.621829  0.815575  0.124080\n",
       "2   0.571163  0.855189  0.081872\n",
       "3   0.555441  0.856934  0.079025\n",
       "4   0.619721  0.831970  0.112539"
      ]
     },
     "execution_count": 3,
     "metadata": {},
     "output_type": "execute_result"
    }
   ],
   "source": [
    "ndvi = pd.read_csv('./data/ndvi/ndvi_meanmaxmin.csv')\n",
    "\n",
    "ndvi.head()"
   ]
  },
  {
   "cell_type": "code",
   "execution_count": 4,
   "metadata": {},
   "outputs": [
    {
     "data": {
      "text/plain": [
       "((600, 5), (600, 3))"
      ]
     },
     "execution_count": 4,
     "metadata": {},
     "output_type": "execute_result"
    }
   ],
   "source": [
    "crop_data_ndvi.shape, ndvi.shape"
   ]
  },
  {
   "cell_type": "code",
   "execution_count": 5,
   "metadata": {},
   "outputs": [
    {
     "data": {
      "text/html": [
       "<div>\n",
       "<style scoped>\n",
       "    .dataframe tbody tr th:only-of-type {\n",
       "        vertical-align: middle;\n",
       "    }\n",
       "\n",
       "    .dataframe tbody tr th {\n",
       "        vertical-align: top;\n",
       "    }\n",
       "\n",
       "    .dataframe thead th {\n",
       "        text-align: right;\n",
       "    }\n",
       "</style>\n",
       "<table border=\"1\" class=\"dataframe\">\n",
       "  <thead>\n",
       "    <tr style=\"text-align: right;\">\n",
       "      <th></th>\n",
       "      <th>Latitude and Longitude</th>\n",
       "      <th>Class of Land</th>\n",
       "      <th>vh</th>\n",
       "      <th>vv</th>\n",
       "      <th>RVI</th>\n",
       "      <th>ndvi_mean</th>\n",
       "      <th>ndvi_max</th>\n",
       "      <th>ndvi_min</th>\n",
       "    </tr>\n",
       "  </thead>\n",
       "  <tbody>\n",
       "    <tr>\n",
       "      <th>0</th>\n",
       "      <td>(10.323727047081501, 105.2516346045924)</td>\n",
       "      <td>Rice</td>\n",
       "      <td>0.004257</td>\n",
       "      <td>0.136713</td>\n",
       "      <td>0.020992</td>\n",
       "      <td>0.557887</td>\n",
       "      <td>0.856293</td>\n",
       "      <td>0.083284</td>\n",
       "    </tr>\n",
       "    <tr>\n",
       "      <th>1</th>\n",
       "      <td>(10.322364360592521, 105.27843410554115)</td>\n",
       "      <td>Rice</td>\n",
       "      <td>0.005324</td>\n",
       "      <td>0.008367</td>\n",
       "      <td>0.970000</td>\n",
       "      <td>0.621829</td>\n",
       "      <td>0.815575</td>\n",
       "      <td>0.124080</td>\n",
       "    </tr>\n",
       "    <tr>\n",
       "      <th>2</th>\n",
       "      <td>(10.321455902933202, 105.25254306225168)</td>\n",
       "      <td>Rice</td>\n",
       "      <td>0.012065</td>\n",
       "      <td>0.103548</td>\n",
       "      <td>0.134852</td>\n",
       "      <td>0.571163</td>\n",
       "      <td>0.855189</td>\n",
       "      <td>0.081872</td>\n",
       "    </tr>\n",
       "    <tr>\n",
       "      <th>3</th>\n",
       "      <td>(10.324181275911162, 105.25118037576274)</td>\n",
       "      <td>Rice</td>\n",
       "      <td>0.004077</td>\n",
       "      <td>0.112445</td>\n",
       "      <td>0.026182</td>\n",
       "      <td>0.555441</td>\n",
       "      <td>0.856934</td>\n",
       "      <td>0.079025</td>\n",
       "    </tr>\n",
       "    <tr>\n",
       "      <th>4</th>\n",
       "      <td>(10.324635504740822, 105.27389181724476)</td>\n",
       "      <td>Rice</td>\n",
       "      <td>0.001757</td>\n",
       "      <td>0.041582</td>\n",
       "      <td>0.032664</td>\n",
       "      <td>0.619721</td>\n",
       "      <td>0.831970</td>\n",
       "      <td>0.112539</td>\n",
       "    </tr>\n",
       "  </tbody>\n",
       "</table>\n",
       "</div>"
      ],
      "text/plain": [
       "                     Latitude and Longitude Class of Land        vh        vv  \\\n",
       "0   (10.323727047081501, 105.2516346045924)          Rice  0.004257  0.136713   \n",
       "1  (10.322364360592521, 105.27843410554115)          Rice  0.005324  0.008367   \n",
       "2  (10.321455902933202, 105.25254306225168)          Rice  0.012065  0.103548   \n",
       "3  (10.324181275911162, 105.25118037576274)          Rice  0.004077  0.112445   \n",
       "4  (10.324635504740822, 105.27389181724476)          Rice  0.001757  0.041582   \n",
       "\n",
       "        RVI  ndvi_mean  ndvi_max  ndvi_min  \n",
       "0  0.020992   0.557887  0.856293  0.083284  \n",
       "1  0.970000   0.621829  0.815575  0.124080  \n",
       "2  0.134852   0.571163  0.855189  0.081872  \n",
       "3  0.026182   0.555441  0.856934  0.079025  \n",
       "4  0.032664   0.619721  0.831970  0.112539  "
      ]
     },
     "execution_count": 5,
     "metadata": {},
     "output_type": "execute_result"
    }
   ],
   "source": [
    "crop_data_ndvi = pd.merge(crop_data_ndvi, ndvi, left_index=True, right_index=True)\n",
    "\n",
    "crop_data_ndvi.head()"
   ]
  },
  {
   "cell_type": "code",
   "execution_count": 6,
   "metadata": {},
   "outputs": [
    {
     "data": {
      "text/plain": [
       "(600, 8)"
      ]
     },
     "execution_count": 6,
     "metadata": {},
     "output_type": "execute_result"
    }
   ],
   "source": [
    "crop_data_ndvi.shape"
   ]
  },
  {
   "cell_type": "code",
   "execution_count": 7,
   "metadata": {},
   "outputs": [],
   "source": [
    "crop_data_ndvi.to_csv('./data/ndvi/crop_data_ndvi.csv', index=False)"
   ]
  }
 ],
 "metadata": {
  "kernelspec": {
   "display_name": "Python 3",
   "language": "python",
   "name": "python3"
  },
  "language_info": {
   "codemirror_mode": {
    "name": "ipython",
    "version": 3
   },
   "file_extension": ".py",
   "mimetype": "text/x-python",
   "name": "python",
   "nbconvert_exporter": "python",
   "pygments_lexer": "ipython3",
   "version": "3.10.7"
  },
  "orig_nbformat": 4
 },
 "nbformat": 4,
 "nbformat_minor": 2
}
