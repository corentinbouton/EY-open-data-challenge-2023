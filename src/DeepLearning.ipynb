{
 "cells": [
  {
   "cell_type": "code",
   "execution_count": 178,
   "metadata": {},
   "outputs": [],
   "source": [
    "import pandas as pd\n",
    "\n",
    "from sklearn.model_selection import train_test_split, GridSearchCV\n",
    "from sklearn.metrics import classification_report, accuracy_score\n",
    "from sklearn.preprocessing import Normalizer\n",
    "\n",
    "import numpy as np\n",
    "\n",
    "from matplotlib import pyplot as plt\n",
    "\n",
    "from keras.models import Sequential\n",
    "from keras.layers import Dense, Flatten, Dropout\n",
    "from keras.losses import BinaryCrossentropy\n",
    "from keras.utils import to_categorical"
   ]
  },
  {
   "cell_type": "code",
   "execution_count": 179,
   "metadata": {},
   "outputs": [],
   "source": [
    "# importing crop data of year 2020\n",
    "crop_data = pd.read_csv('../data/ndvi/crop_data_ndvi_march_bbox00004.csv')"
   ]
  },
  {
   "cell_type": "code",
   "execution_count": 180,
   "metadata": {},
   "outputs": [],
   "source": [
    "X = crop_data.drop(columns=['Class of Land', 'Latitude and Longitude', 'ndvi_mean', 'ndvi_max'])\n",
    "y = crop_data['Class of Land']\n",
    "\n",
    "del crop_data"
   ]
  },
  {
   "cell_type": "code",
   "execution_count": 181,
   "metadata": {},
   "outputs": [],
   "source": [
    "X_train, X_test, y_train, y_test = train_test_split(X, y, train_size=0.6, random_state=40)"
   ]
  },
  {
   "cell_type": "code",
   "execution_count": 182,
   "metadata": {},
   "outputs": [
    {
     "data": {
      "text/plain": [
       "(360, 4)"
      ]
     },
     "execution_count": 182,
     "metadata": {},
     "output_type": "execute_result"
    }
   ],
   "source": [
    "X_train.shape"
   ]
  },
  {
   "cell_type": "code",
   "execution_count": 183,
   "metadata": {},
   "outputs": [],
   "source": [
    "y_train = to_categorical([(0 if i == 'Non Rice' else 1) for i in y_train])\n",
    "y_test = to_categorical([(0 if i == 'Non Rice' else 1) for i in y_test])"
   ]
  },
  {
   "cell_type": "code",
   "execution_count": 184,
   "metadata": {},
   "outputs": [],
   "source": [
    "model = Sequential()\n",
    "model.add(Dense(32, input_shape=(4,), activation='relu'))\n",
    "model.add(Dense(16, activation='relu'))\n",
    "model.add(Dense(2, activation='sigmoid'))"
   ]
  },
  {
   "cell_type": "code",
   "execution_count": 185,
   "metadata": {},
   "outputs": [],
   "source": [
    "model.compile(loss=BinaryCrossentropy(), optimizer='adam', metrics=['accuracy'])"
   ]
  },
  {
   "cell_type": "code",
   "execution_count": 186,
   "metadata": {},
   "outputs": [
    {
     "name": "stdout",
     "output_type": "stream",
     "text": [
      "Epoch 1/100\n",
      "15/15 [==============================] - 0s 5ms/step - loss: 44.9652 - accuracy: 0.5167 - val_loss: 58.4853 - val_accuracy: 0.4708\n",
      "Epoch 2/100\n",
      "15/15 [==============================] - 0s 2ms/step - loss: 33.3862 - accuracy: 0.5222 - val_loss: 30.5445 - val_accuracy: 0.4708\n",
      "Epoch 3/100\n",
      "15/15 [==============================] - 0s 3ms/step - loss: 13.7260 - accuracy: 0.5194 - val_loss: 9.6976 - val_accuracy: 0.4708\n",
      "Epoch 4/100\n",
      "15/15 [==============================] - 0s 1ms/step - loss: 2.6154 - accuracy: 0.5222 - val_loss: 0.6391 - val_accuracy: 0.4875\n",
      "Epoch 5/100\n",
      "15/15 [==============================] - 0s 1ms/step - loss: 0.6282 - accuracy: 0.5417 - val_loss: 0.6294 - val_accuracy: 0.5167\n",
      "Epoch 6/100\n",
      "15/15 [==============================] - 0s 1ms/step - loss: 0.6175 - accuracy: 0.5667 - val_loss: 0.6193 - val_accuracy: 0.5792\n",
      "Epoch 7/100\n",
      "15/15 [==============================] - 0s 1ms/step - loss: 0.6066 - accuracy: 0.6417 - val_loss: 0.6081 - val_accuracy: 0.6375\n",
      "Epoch 8/100\n",
      "15/15 [==============================] - 0s 1ms/step - loss: 0.5951 - accuracy: 0.6917 - val_loss: 0.5961 - val_accuracy: 0.6667\n",
      "Epoch 9/100\n",
      "15/15 [==============================] - 0s 1ms/step - loss: 0.5822 - accuracy: 0.7250 - val_loss: 0.5836 - val_accuracy: 0.7208\n",
      "Epoch 10/100\n",
      "15/15 [==============================] - 0s 1ms/step - loss: 0.5688 - accuracy: 0.7528 - val_loss: 0.5701 - val_accuracy: 0.7667\n",
      "Epoch 11/100\n",
      "15/15 [==============================] - 0s 1ms/step - loss: 0.5551 - accuracy: 0.7806 - val_loss: 0.5568 - val_accuracy: 0.7833\n",
      "Epoch 12/100\n",
      "15/15 [==============================] - 0s 1ms/step - loss: 0.5424 - accuracy: 0.7917 - val_loss: 0.5441 - val_accuracy: 0.7875\n",
      "Epoch 13/100\n",
      "15/15 [==============================] - 0s 1ms/step - loss: 0.5281 - accuracy: 0.8194 - val_loss: 0.5290 - val_accuracy: 0.8208\n",
      "Epoch 14/100\n",
      "15/15 [==============================] - 0s 1ms/step - loss: 0.5143 - accuracy: 0.8333 - val_loss: 0.5145 - val_accuracy: 0.8292\n",
      "Epoch 15/100\n",
      "15/15 [==============================] - 0s 1ms/step - loss: 0.4994 - accuracy: 0.8417 - val_loss: 0.4987 - val_accuracy: 0.8458\n",
      "Epoch 16/100\n",
      "15/15 [==============================] - 0s 1ms/step - loss: 0.4833 - accuracy: 0.8528 - val_loss: 0.4796 - val_accuracy: 0.8500\n",
      "Epoch 17/100\n",
      "15/15 [==============================] - 0s 1ms/step - loss: 0.4656 - accuracy: 0.8611 - val_loss: 0.4604 - val_accuracy: 0.8708\n",
      "Epoch 18/100\n",
      "15/15 [==============================] - 0s 1ms/step - loss: 0.4494 - accuracy: 0.8639 - val_loss: 0.4424 - val_accuracy: 0.8833\n",
      "Epoch 19/100\n",
      "15/15 [==============================] - 0s 2ms/step - loss: 0.4340 - accuracy: 0.8611 - val_loss: 0.4264 - val_accuracy: 0.8875\n",
      "Epoch 20/100\n",
      "15/15 [==============================] - 0s 3ms/step - loss: 0.4183 - accuracy: 0.8667 - val_loss: 0.4084 - val_accuracy: 0.8958\n",
      "Epoch 21/100\n",
      "15/15 [==============================] - 0s 2ms/step - loss: 0.4037 - accuracy: 0.8750 - val_loss: 0.3917 - val_accuracy: 0.9000\n",
      "Epoch 22/100\n",
      "15/15 [==============================] - 0s 1ms/step - loss: 0.3897 - accuracy: 0.8778 - val_loss: 0.3755 - val_accuracy: 0.9000\n",
      "Epoch 23/100\n",
      "15/15 [==============================] - 0s 1ms/step - loss: 0.5039 - accuracy: 0.8750 - val_loss: 0.3668 - val_accuracy: 0.9000\n",
      "Epoch 24/100\n",
      "15/15 [==============================] - 0s 1ms/step - loss: 0.3686 - accuracy: 0.8806 - val_loss: 0.3525 - val_accuracy: 0.9083\n",
      "Epoch 25/100\n",
      "15/15 [==============================] - 0s 2ms/step - loss: 0.3592 - accuracy: 0.8833 - val_loss: 0.3419 - val_accuracy: 0.9083\n",
      "Epoch 26/100\n",
      "15/15 [==============================] - 0s 2ms/step - loss: 0.3491 - accuracy: 0.8861 - val_loss: 0.3309 - val_accuracy: 0.9083\n",
      "Epoch 27/100\n",
      "15/15 [==============================] - 0s 2ms/step - loss: 0.3408 - accuracy: 0.8889 - val_loss: 0.3204 - val_accuracy: 0.9167\n",
      "Epoch 28/100\n",
      "15/15 [==============================] - 0s 1ms/step - loss: 0.3337 - accuracy: 0.8889 - val_loss: 0.3126 - val_accuracy: 0.9083\n",
      "Epoch 29/100\n",
      "15/15 [==============================] - 0s 1ms/step - loss: 0.3258 - accuracy: 0.8861 - val_loss: 0.3064 - val_accuracy: 0.9083\n",
      "Epoch 30/100\n",
      "15/15 [==============================] - 0s 1ms/step - loss: 0.3199 - accuracy: 0.8861 - val_loss: 0.2978 - val_accuracy: 0.9167\n",
      "Epoch 31/100\n",
      "15/15 [==============================] - 0s 1ms/step - loss: 0.3146 - accuracy: 0.8889 - val_loss: 0.2922 - val_accuracy: 0.9167\n",
      "Epoch 32/100\n",
      "15/15 [==============================] - 0s 1ms/step - loss: 0.3090 - accuracy: 0.8861 - val_loss: 0.2845 - val_accuracy: 0.9250\n",
      "Epoch 33/100\n",
      "15/15 [==============================] - 0s 1ms/step - loss: 0.3045 - accuracy: 0.8861 - val_loss: 0.2797 - val_accuracy: 0.9250\n",
      "Epoch 34/100\n",
      "15/15 [==============================] - 0s 1ms/step - loss: 0.2999 - accuracy: 0.8861 - val_loss: 0.2743 - val_accuracy: 0.9250\n",
      "Epoch 35/100\n",
      "15/15 [==============================] - 0s 1ms/step - loss: 0.2962 - accuracy: 0.8861 - val_loss: 0.2701 - val_accuracy: 0.9250\n",
      "Epoch 36/100\n",
      "15/15 [==============================] - 0s 1ms/step - loss: 0.2932 - accuracy: 0.8889 - val_loss: 0.2660 - val_accuracy: 0.9250\n",
      "Epoch 37/100\n",
      "15/15 [==============================] - 0s 1ms/step - loss: 0.2894 - accuracy: 0.8833 - val_loss: 0.2614 - val_accuracy: 0.9250\n",
      "Epoch 38/100\n",
      "15/15 [==============================] - 0s 1ms/step - loss: 0.2861 - accuracy: 0.8861 - val_loss: 0.2570 - val_accuracy: 0.9292\n",
      "Epoch 39/100\n",
      "15/15 [==============================] - 0s 1ms/step - loss: 0.2829 - accuracy: 0.8889 - val_loss: 0.2549 - val_accuracy: 0.9250\n",
      "Epoch 40/100\n",
      "15/15 [==============================] - 0s 1ms/step - loss: 0.2804 - accuracy: 0.8889 - val_loss: 0.2516 - val_accuracy: 0.9292\n",
      "Epoch 41/100\n",
      "15/15 [==============================] - 0s 1ms/step - loss: 0.2785 - accuracy: 0.8889 - val_loss: 0.2498 - val_accuracy: 0.9292\n",
      "Epoch 42/100\n",
      "15/15 [==============================] - 0s 1ms/step - loss: 0.3432 - accuracy: 0.8889 - val_loss: 0.2505 - val_accuracy: 0.9250\n",
      "Epoch 43/100\n",
      "15/15 [==============================] - 0s 1ms/step - loss: 0.2767 - accuracy: 0.8889 - val_loss: 0.2502 - val_accuracy: 0.9250\n",
      "Epoch 44/100\n",
      "15/15 [==============================] - 0s 2ms/step - loss: 0.2751 - accuracy: 0.8861 - val_loss: 0.2456 - val_accuracy: 0.9333\n",
      "Epoch 45/100\n",
      "15/15 [==============================] - 0s 1ms/step - loss: 0.2747 - accuracy: 0.8861 - val_loss: 0.2435 - val_accuracy: 0.9333\n",
      "Epoch 46/100\n",
      "15/15 [==============================] - 0s 2ms/step - loss: 0.2725 - accuracy: 0.8889 - val_loss: 0.2445 - val_accuracy: 0.9333\n",
      "Epoch 47/100\n",
      "15/15 [==============================] - 0s 1ms/step - loss: 0.2709 - accuracy: 0.8889 - val_loss: 0.2403 - val_accuracy: 0.9333\n",
      "Epoch 48/100\n",
      "15/15 [==============================] - 0s 3ms/step - loss: 0.2702 - accuracy: 0.8889 - val_loss: 0.2385 - val_accuracy: 0.9333\n",
      "Epoch 49/100\n",
      "15/15 [==============================] - 0s 2ms/step - loss: 0.2675 - accuracy: 0.8861 - val_loss: 0.2397 - val_accuracy: 0.9333\n",
      "Epoch 50/100\n",
      "15/15 [==============================] - 0s 2ms/step - loss: 0.2678 - accuracy: 0.8889 - val_loss: 0.2394 - val_accuracy: 0.9333\n",
      "Epoch 51/100\n",
      "15/15 [==============================] - 0s 1ms/step - loss: 0.2658 - accuracy: 0.8861 - val_loss: 0.2357 - val_accuracy: 0.9333\n",
      "Epoch 52/100\n",
      "15/15 [==============================] - 0s 1ms/step - loss: 0.2649 - accuracy: 0.8917 - val_loss: 0.2338 - val_accuracy: 0.9333\n",
      "Epoch 53/100\n",
      "15/15 [==============================] - 0s 1ms/step - loss: 0.2636 - accuracy: 0.8889 - val_loss: 0.2344 - val_accuracy: 0.9333\n",
      "Epoch 54/100\n",
      "15/15 [==============================] - 0s 1ms/step - loss: 0.2627 - accuracy: 0.8889 - val_loss: 0.2338 - val_accuracy: 0.9333\n",
      "Epoch 55/100\n",
      "15/15 [==============================] - 0s 1ms/step - loss: 0.2621 - accuracy: 0.8889 - val_loss: 0.2341 - val_accuracy: 0.9292\n",
      "Epoch 56/100\n",
      "15/15 [==============================] - 0s 1ms/step - loss: 0.2609 - accuracy: 0.8889 - val_loss: 0.2313 - val_accuracy: 0.9333\n",
      "Epoch 57/100\n",
      "15/15 [==============================] - 0s 1ms/step - loss: 0.2602 - accuracy: 0.8917 - val_loss: 0.2299 - val_accuracy: 0.9333\n",
      "Epoch 58/100\n",
      "15/15 [==============================] - 0s 1ms/step - loss: 0.2600 - accuracy: 0.8889 - val_loss: 0.2297 - val_accuracy: 0.9292\n",
      "Epoch 59/100\n",
      "15/15 [==============================] - 0s 1ms/step - loss: 0.2599 - accuracy: 0.8889 - val_loss: 0.2309 - val_accuracy: 0.9292\n",
      "Epoch 60/100\n",
      "15/15 [==============================] - 0s 1ms/step - loss: 0.2584 - accuracy: 0.8889 - val_loss: 0.2270 - val_accuracy: 0.9333\n",
      "Epoch 61/100\n",
      "15/15 [==============================] - 0s 1ms/step - loss: 0.2588 - accuracy: 0.8861 - val_loss: 0.2288 - val_accuracy: 0.9292\n",
      "Epoch 62/100\n",
      "15/15 [==============================] - 0s 1ms/step - loss: 0.2571 - accuracy: 0.8861 - val_loss: 0.2273 - val_accuracy: 0.9292\n",
      "Epoch 63/100\n",
      "15/15 [==============================] - 0s 1ms/step - loss: 0.2563 - accuracy: 0.8861 - val_loss: 0.2263 - val_accuracy: 0.9292\n",
      "Epoch 64/100\n",
      "15/15 [==============================] - 0s 1ms/step - loss: 0.2557 - accuracy: 0.8861 - val_loss: 0.2258 - val_accuracy: 0.9292\n",
      "Epoch 65/100\n",
      "15/15 [==============================] - 0s 1ms/step - loss: 0.2556 - accuracy: 0.8861 - val_loss: 0.2253 - val_accuracy: 0.9292\n",
      "Epoch 66/100\n",
      "15/15 [==============================] - 0s 1ms/step - loss: 0.2545 - accuracy: 0.8833 - val_loss: 0.2261 - val_accuracy: 0.9292\n",
      "Epoch 67/100\n",
      "15/15 [==============================] - 0s 2ms/step - loss: 0.2541 - accuracy: 0.8806 - val_loss: 0.2262 - val_accuracy: 0.9292\n",
      "Epoch 68/100\n",
      "15/15 [==============================] - 0s 2ms/step - loss: 0.2535 - accuracy: 0.8833 - val_loss: 0.2251 - val_accuracy: 0.9292\n",
      "Epoch 69/100\n",
      "15/15 [==============================] - 0s 1ms/step - loss: 0.2531 - accuracy: 0.8833 - val_loss: 0.2245 - val_accuracy: 0.9292\n",
      "Epoch 70/100\n",
      "15/15 [==============================] - 0s 1ms/step - loss: 0.2542 - accuracy: 0.8889 - val_loss: 0.2228 - val_accuracy: 0.9292\n",
      "Epoch 71/100\n",
      "15/15 [==============================] - 0s 1ms/step - loss: 0.2541 - accuracy: 0.8889 - val_loss: 0.2284 - val_accuracy: 0.9292\n",
      "Epoch 72/100\n",
      "15/15 [==============================] - 0s 1ms/step - loss: 0.2526 - accuracy: 0.8861 - val_loss: 0.2239 - val_accuracy: 0.9292\n",
      "Epoch 73/100\n",
      "15/15 [==============================] - 0s 2ms/step - loss: 0.2514 - accuracy: 0.8806 - val_loss: 0.2243 - val_accuracy: 0.9292\n",
      "Epoch 74/100\n",
      "15/15 [==============================] - 0s 2ms/step - loss: 0.2524 - accuracy: 0.8889 - val_loss: 0.2203 - val_accuracy: 0.9208\n",
      "Epoch 75/100\n",
      "15/15 [==============================] - 0s 1ms/step - loss: 0.2509 - accuracy: 0.8917 - val_loss: 0.2219 - val_accuracy: 0.9292\n",
      "Epoch 76/100\n",
      "15/15 [==============================] - 0s 1ms/step - loss: 0.2508 - accuracy: 0.8806 - val_loss: 0.2267 - val_accuracy: 0.9292\n",
      "Epoch 77/100\n",
      "15/15 [==============================] - 0s 1ms/step - loss: 0.2504 - accuracy: 0.8861 - val_loss: 0.2240 - val_accuracy: 0.9292\n",
      "Epoch 78/100\n",
      "15/15 [==============================] - 0s 1ms/step - loss: 0.2490 - accuracy: 0.8833 - val_loss: 0.2210 - val_accuracy: 0.9250\n",
      "Epoch 79/100\n",
      "15/15 [==============================] - 0s 2ms/step - loss: 0.2504 - accuracy: 0.8917 - val_loss: 0.2196 - val_accuracy: 0.9208\n",
      "Epoch 80/100\n",
      "15/15 [==============================] - 0s 2ms/step - loss: 0.2487 - accuracy: 0.8917 - val_loss: 0.2216 - val_accuracy: 0.9292\n",
      "Epoch 81/100\n",
      "15/15 [==============================] - 0s 2ms/step - loss: 0.2485 - accuracy: 0.8833 - val_loss: 0.2213 - val_accuracy: 0.9292\n",
      "Epoch 82/100\n",
      "15/15 [==============================] - 0s 1ms/step - loss: 0.2483 - accuracy: 0.8861 - val_loss: 0.2221 - val_accuracy: 0.9292\n",
      "Epoch 83/100\n",
      "15/15 [==============================] - 0s 1ms/step - loss: 0.2497 - accuracy: 0.8917 - val_loss: 0.2185 - val_accuracy: 0.9208\n",
      "Epoch 84/100\n",
      "15/15 [==============================] - 0s 1ms/step - loss: 0.2483 - accuracy: 0.8833 - val_loss: 0.2223 - val_accuracy: 0.9292\n",
      "Epoch 85/100\n",
      "15/15 [==============================] - 0s 1ms/step - loss: 0.2477 - accuracy: 0.8833 - val_loss: 0.2191 - val_accuracy: 0.9250\n",
      "Epoch 86/100\n",
      "15/15 [==============================] - 0s 1ms/step - loss: 0.2479 - accuracy: 0.8833 - val_loss: 0.2219 - val_accuracy: 0.9292\n",
      "Epoch 87/100\n",
      "15/15 [==============================] - 0s 2ms/step - loss: 0.2474 - accuracy: 0.8861 - val_loss: 0.2190 - val_accuracy: 0.9250\n",
      "Epoch 88/100\n",
      "15/15 [==============================] - 0s 1ms/step - loss: 0.2470 - accuracy: 0.8806 - val_loss: 0.2200 - val_accuracy: 0.9292\n",
      "Epoch 89/100\n",
      "15/15 [==============================] - 0s 2ms/step - loss: 0.2463 - accuracy: 0.8833 - val_loss: 0.2174 - val_accuracy: 0.9208\n",
      "Epoch 90/100\n",
      "15/15 [==============================] - 0s 1ms/step - loss: 0.2463 - accuracy: 0.8833 - val_loss: 0.2185 - val_accuracy: 0.9250\n",
      "Epoch 91/100\n",
      "15/15 [==============================] - 0s 1ms/step - loss: 0.2459 - accuracy: 0.8861 - val_loss: 0.2186 - val_accuracy: 0.9250\n",
      "Epoch 92/100\n",
      "15/15 [==============================] - 0s 1ms/step - loss: 0.2462 - accuracy: 0.8833 - val_loss: 0.2206 - val_accuracy: 0.9292\n",
      "Epoch 93/100\n",
      "15/15 [==============================] - 0s 1ms/step - loss: 0.2461 - accuracy: 0.8806 - val_loss: 0.2177 - val_accuracy: 0.9250\n",
      "Epoch 94/100\n",
      "15/15 [==============================] - 0s 2ms/step - loss: 0.2454 - accuracy: 0.8889 - val_loss: 0.2191 - val_accuracy: 0.9292\n",
      "Epoch 95/100\n",
      "15/15 [==============================] - 0s 1ms/step - loss: 0.2449 - accuracy: 0.8889 - val_loss: 0.2178 - val_accuracy: 0.9250\n",
      "Epoch 96/100\n",
      "15/15 [==============================] - 0s 1ms/step - loss: 0.2451 - accuracy: 0.8889 - val_loss: 0.2182 - val_accuracy: 0.9250\n",
      "Epoch 97/100\n",
      "15/15 [==============================] - 0s 1ms/step - loss: 0.2449 - accuracy: 0.8833 - val_loss: 0.2182 - val_accuracy: 0.9250\n",
      "Epoch 98/100\n",
      "15/15 [==============================] - 0s 2ms/step - loss: 0.2442 - accuracy: 0.8861 - val_loss: 0.2167 - val_accuracy: 0.9208\n",
      "Epoch 99/100\n",
      "15/15 [==============================] - 0s 2ms/step - loss: 0.2444 - accuracy: 0.8861 - val_loss: 0.2169 - val_accuracy: 0.9250\n",
      "Epoch 100/100\n",
      "15/15 [==============================] - 0s 1ms/step - loss: 0.2445 - accuracy: 0.8833 - val_loss: 0.2184 - val_accuracy: 0.9292\n"
     ]
    }
   ],
   "source": [
    "history = model.fit(X_train, y_train, epochs=100, batch_size=24, verbose=1, validation_data=(X_test, y_test), use_multiprocessing=True)"
   ]
  },
  {
   "cell_type": "code",
   "execution_count": 187,
   "metadata": {},
   "outputs": [
    {
     "data": {
      "image/png": "[encoded data removed]",
      "text/plain": [
       "<Figure size 640x480 with 1 Axes>"
      ]
     },
     "metadata": {},
     "output_type": "display_data"
    }
   ],
   "source": [
    "plt.plot(history.history['accuracy'])\n",
    "plt.plot(history.history['val_accuracy'])\n",
    "plt.title('Model accuracy')\n",
    "plt.ylabel('Accuracy')\n",
    "plt.xlabel('Epoch')\n",
    "plt.legend(['Train', 'Test'])\n",
    "plt.show()"
   ]
  },
  {
   "cell_type": "code",
   "execution_count": 188,
   "metadata": {},
   "outputs": [
    {
     "data": {
      "image/png": "[encoded data removed]",
      "text/plain": [
       "<Figure size 640x480 with 1 Axes>"
      ]
     },
     "metadata": {},
     "output_type": "display_data"
    }
   ],
   "source": [
    "plt.plot(history.history['loss'])\n",
    "plt.plot(history.history['val_loss'])\n",
    "plt.title('Model loss')\n",
    "plt.ylabel('Loss')\n",
    "plt.xlabel('Epoch')\n",
    "plt.legend(['Train', 'Test'])\n",
    "plt.show()"
   ]
  },
  {
   "cell_type": "code",
   "execution_count": 189,
   "metadata": {},
   "outputs": [
    {
     "name": "stdout",
     "output_type": "stream",
     "text": [
      "8/8 [==============================] - 0s 417us/step\n",
      "              precision    recall  f1-score   support\n",
      "\n",
      "           0       0.89      0.97      0.93       113\n",
      "           1       0.97      0.89      0.93       127\n",
      "\n",
      "    accuracy                           0.93       240\n",
      "   macro avg       0.93      0.93      0.93       240\n",
      "weighted avg       0.93      0.93      0.93       240\n",
      "\n"
     ]
    }
   ],
   "source": [
    "y_pred = np.argmax(model.predict(X_test), axis=1)\n",
    "y_test = np.argmax(y_test, axis=1)\n",
    "\n",
    "print(classification_report(y_test, y_pred))"
   ]
  },
  {
   "cell_type": "code",
   "execution_count": 192,
   "metadata": {},
   "outputs": [],
   "source": [
    "X_val = pd.read_csv('../data/ndvi/validation_data_ndvi_march_bbox00004.csv')\n",
    "coords = X_val['Latitude and Longitude']\n",
    "# X_val.drop(columns=['Latitude and Longitude', 'ndvi_mean', 'ndvi_max'], inplace=True)\n",
    "X_val.drop(columns=['Latitude and Longitude', 'ndvi_max', 'ndvi_mean'], inplace=True)"
   ]
  },
  {
   "cell_type": "code",
   "execution_count": 193,
   "metadata": {},
   "outputs": [
    {
     "name": "stdout",
     "output_type": "stream",
     "text": [
      "8/8 [==============================] - 0s 401us/step\n"
     ]
    }
   ],
   "source": [
    "y_pred = np.argmax(model.predict(X_val), axis=1)"
   ]
  },
  {
   "cell_type": "code",
   "execution_count": 198,
   "metadata": {},
   "outputs": [
    {
     "data": {
      "text/html": [
       "<div>\n",
       "<style scoped>\n",
       "    .dataframe tbody tr th:only-of-type {\n",
       "        vertical-align: middle;\n",
       "    }\n",
       "\n",
       "    .dataframe tbody tr th {\n",
       "        vertical-align: top;\n",
       "    }\n",
       "\n",
       "    .dataframe thead th {\n",
       "        text-align: right;\n",
       "    }\n",
       "</style>\n",
       "<table border=\"1\" class=\"dataframe\">\n",
       "  <thead>\n",
       "    <tr style=\"text-align: right;\">\n",
       "      <th></th>\n",
       "      <th>target</th>\n",
       "    </tr>\n",
       "  </thead>\n",
       "  <tbody>\n",
       "    <tr>\n",
       "      <th>0</th>\n",
       "      <td>Rice</td>\n",
       "    </tr>\n",
       "    <tr>\n",
       "      <th>1</th>\n",
       "      <td>Rice</td>\n",
       "    </tr>\n",
       "    <tr>\n",
       "      <th>2</th>\n",
       "      <td>Non Rice</td>\n",
       "    </tr>\n",
       "    <tr>\n",
       "      <th>3</th>\n",
       "      <td>Non Rice</td>\n",
       "    </tr>\n",
       "    <tr>\n",
       "      <th>4</th>\n",
       "      <td>Rice</td>\n",
       "    </tr>\n",
       "  </tbody>\n",
       "</table>\n",
       "</div>"
      ],
      "text/plain": [
       "     target\n",
       "0      Rice\n",
       "1      Rice\n",
       "2  Non Rice\n",
       "3  Non Rice\n",
       "4      Rice"
      ]
     },
     "execution_count": 198,
     "metadata": {},
     "output_type": "execute_result"
    }
   ],
   "source": [
    "y_pred = pd.DataFrame(y_pred, columns=['target']).replace(1, 'Rice').replace(0, 'Non Rice')\n",
    "\n",
    "y_pred.head()"
   ]
  },
  {
   "cell_type": "code",
   "execution_count": 205,
   "metadata": {},
   "outputs": [
    {
     "data": {
      "text/plain": [
       "(target    81\n",
       " dtype: int64,\n",
       " target    169\n",
       " dtype: int64)"
      ]
     },
     "execution_count": 205,
     "metadata": {},
     "output_type": "execute_result"
    }
   ],
   "source": [
    "y_pred.where(y_pred == 'Rice').count(), y_pred.where(y_pred == 'Non Rice').count()"
   ]
  }
 ],
 "metadata": {
  "kernelspec": {
   "display_name": "Python 3",
   "language": "python",
   "name": "python3"
  },
  "language_info": {
   "codemirror_mode": {
    "name": "ipython",
    "version": 3
   },
   "file_extension": ".py",
   "mimetype": "text/x-python",
   "name": "python",
   "nbconvert_exporter": "python",
   "pygments_lexer": "ipython3",
   "version": "3.10.7"
  },
  "orig_nbformat": 4
 },
 "nbformat": 4,
 "nbformat_minor": 2
}
