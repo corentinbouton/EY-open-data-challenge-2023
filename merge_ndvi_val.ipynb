{
 "cells": [
  {
   "cell_type": "code",
   "execution_count": 1,
   "metadata": {},
   "outputs": [],
   "source": [
    "import pandas as pd"
   ]
  },
  {
   "cell_type": "code",
   "execution_count": 2,
   "metadata": {},
   "outputs": [
    {
     "data": {
      "text/html": [
       "<div>\n",
       "<style scoped>\n",
       "    .dataframe tbody tr th:only-of-type {\n",
       "        vertical-align: middle;\n",
       "    }\n",
       "\n",
       "    .dataframe tbody tr th {\n",
       "        vertical-align: top;\n",
       "    }\n",
       "\n",
       "    .dataframe thead th {\n",
       "        text-align: right;\n",
       "    }\n",
       "</style>\n",
       "<table border=\"1\" class=\"dataframe\">\n",
       "  <thead>\n",
       "    <tr style=\"text-align: right;\">\n",
       "      <th></th>\n",
       "      <th>Latitude and Longitude</th>\n",
       "      <th>vh</th>\n",
       "      <th>vv</th>\n",
       "      <th>RVI</th>\n",
       "    </tr>\n",
       "  </thead>\n",
       "  <tbody>\n",
       "    <tr>\n",
       "      <th>0</th>\n",
       "      <td>(10.18019073690894, 105.32022315786804)</td>\n",
       "      <td>0.007541</td>\n",
       "      <td>0.230875</td>\n",
       "      <td>0.022502</td>\n",
       "    </tr>\n",
       "    <tr>\n",
       "      <th>1</th>\n",
       "      <td>(10.561107033461816, 105.12772097986661)</td>\n",
       "      <td>0.004003</td>\n",
       "      <td>0.083652</td>\n",
       "      <td>0.039041</td>\n",
       "    </tr>\n",
       "    <tr>\n",
       "      <th>2</th>\n",
       "      <td>(10.623790611954897, 105.13771401411867)</td>\n",
       "      <td>0.027154</td>\n",
       "      <td>0.186894</td>\n",
       "      <td>0.180737</td>\n",
       "    </tr>\n",
       "    <tr>\n",
       "      <th>3</th>\n",
       "      <td>(10.583364246115156, 105.23946127195805)</td>\n",
       "      <td>0.001572</td>\n",
       "      <td>0.009353</td>\n",
       "      <td>0.218368</td>\n",
       "    </tr>\n",
       "    <tr>\n",
       "      <th>4</th>\n",
       "      <td>(10.20744446668854, 105.26844107128906)</td>\n",
       "      <td>0.028073</td>\n",
       "      <td>0.150525</td>\n",
       "      <td>0.249271</td>\n",
       "    </tr>\n",
       "  </tbody>\n",
       "</table>\n",
       "</div>"
      ],
      "text/plain": [
       "                     Latitude and Longitude        vh        vv       RVI\n",
       "0   (10.18019073690894, 105.32022315786804)  0.007541  0.230875  0.022502\n",
       "1  (10.561107033461816, 105.12772097986661)  0.004003  0.083652  0.039041\n",
       "2  (10.623790611954897, 105.13771401411867)  0.027154  0.186894  0.180737\n",
       "3  (10.583364246115156, 105.23946127195805)  0.001572  0.009353  0.218368\n",
       "4   (10.20744446668854, 105.26844107128906)  0.028073  0.150525  0.249271"
      ]
     },
     "execution_count": 2,
     "metadata": {},
     "output_type": "execute_result"
    }
   ],
   "source": [
    "crop_data_ndvi = pd.read_csv('./data/ndvi/validation_data_ndvi.csv')\n",
    "crop_data_ndvi.drop(columns=['ndvi'], inplace=True)\n",
    "\n",
    "crop_data_ndvi.head()"
   ]
  },
  {
   "cell_type": "code",
   "execution_count": 3,
   "metadata": {},
   "outputs": [
    {
     "data": {
      "text/html": [
       "<div>\n",
       "<style scoped>\n",
       "    .dataframe tbody tr th:only-of-type {\n",
       "        vertical-align: middle;\n",
       "    }\n",
       "\n",
       "    .dataframe tbody tr th {\n",
       "        vertical-align: top;\n",
       "    }\n",
       "\n",
       "    .dataframe thead th {\n",
       "        text-align: right;\n",
       "    }\n",
       "</style>\n",
       "<table border=\"1\" class=\"dataframe\">\n",
       "  <thead>\n",
       "    <tr style=\"text-align: right;\">\n",
       "      <th></th>\n",
       "      <th>ndvi_mean</th>\n",
       "      <th>ndvi_max</th>\n",
       "      <th>ndvi_min</th>\n",
       "    </tr>\n",
       "  </thead>\n",
       "  <tbody>\n",
       "    <tr>\n",
       "      <th>0</th>\n",
       "      <td>0.650296</td>\n",
       "      <td>0.829748</td>\n",
       "      <td>0.186204</td>\n",
       "    </tr>\n",
       "    <tr>\n",
       "      <th>1</th>\n",
       "      <td>0.577806</td>\n",
       "      <td>0.700386</td>\n",
       "      <td>0.430831</td>\n",
       "    </tr>\n",
       "    <tr>\n",
       "      <th>2</th>\n",
       "      <td>0.289559</td>\n",
       "      <td>0.767500</td>\n",
       "      <td>-0.002943</td>\n",
       "    </tr>\n",
       "    <tr>\n",
       "      <th>3</th>\n",
       "      <td>0.411636</td>\n",
       "      <td>0.613002</td>\n",
       "      <td>0.287590</td>\n",
       "    </tr>\n",
       "    <tr>\n",
       "      <th>4</th>\n",
       "      <td>0.680642</td>\n",
       "      <td>0.865726</td>\n",
       "      <td>0.358249</td>\n",
       "    </tr>\n",
       "  </tbody>\n",
       "</table>\n",
       "</div>"
      ],
      "text/plain": [
       "   ndvi_mean  ndvi_max  ndvi_min\n",
       "0   0.650296  0.829748  0.186204\n",
       "1   0.577806  0.700386  0.430831\n",
       "2   0.289559  0.767500 -0.002943\n",
       "3   0.411636  0.613002  0.287590\n",
       "4   0.680642  0.865726  0.358249"
      ]
     },
     "execution_count": 3,
     "metadata": {},
     "output_type": "execute_result"
    }
   ],
   "source": [
    "ndvi = pd.read_csv('./data/ndvi/ndvi_val_meanmaxmin.csv')\n",
    "\n",
    "ndvi.head()"
   ]
  },
  {
   "cell_type": "code",
   "execution_count": 4,
   "metadata": {},
   "outputs": [
    {
     "data": {
      "text/plain": [
       "((250, 4), (250, 3))"
      ]
     },
     "execution_count": 4,
     "metadata": {},
     "output_type": "execute_result"
    }
   ],
   "source": [
    "crop_data_ndvi.shape, ndvi.shape"
   ]
  },
  {
   "cell_type": "code",
   "execution_count": 5,
   "metadata": {},
   "outputs": [
    {
     "data": {
      "text/html": [
       "<div>\n",
       "<style scoped>\n",
       "    .dataframe tbody tr th:only-of-type {\n",
       "        vertical-align: middle;\n",
       "    }\n",
       "\n",
       "    .dataframe tbody tr th {\n",
       "        vertical-align: top;\n",
       "    }\n",
       "\n",
       "    .dataframe thead th {\n",
       "        text-align: right;\n",
       "    }\n",
       "</style>\n",
       "<table border=\"1\" class=\"dataframe\">\n",
       "  <thead>\n",
       "    <tr style=\"text-align: right;\">\n",
       "      <th></th>\n",
       "      <th>Latitude and Longitude</th>\n",
       "      <th>vh</th>\n",
       "      <th>vv</th>\n",
       "      <th>RVI</th>\n",
       "      <th>ndvi_mean</th>\n",
       "      <th>ndvi_max</th>\n",
       "      <th>ndvi_min</th>\n",
       "    </tr>\n",
       "  </thead>\n",
       "  <tbody>\n",
       "    <tr>\n",
       "      <th>0</th>\n",
       "      <td>(10.18019073690894, 105.32022315786804)</td>\n",
       "      <td>0.007541</td>\n",
       "      <td>0.230875</td>\n",
       "      <td>0.022502</td>\n",
       "      <td>0.650296</td>\n",
       "      <td>0.829748</td>\n",
       "      <td>0.186204</td>\n",
       "    </tr>\n",
       "    <tr>\n",
       "      <th>1</th>\n",
       "      <td>(10.561107033461816, 105.12772097986661)</td>\n",
       "      <td>0.004003</td>\n",
       "      <td>0.083652</td>\n",
       "      <td>0.039041</td>\n",
       "      <td>0.577806</td>\n",
       "      <td>0.700386</td>\n",
       "      <td>0.430831</td>\n",
       "    </tr>\n",
       "    <tr>\n",
       "      <th>2</th>\n",
       "      <td>(10.623790611954897, 105.13771401411867)</td>\n",
       "      <td>0.027154</td>\n",
       "      <td>0.186894</td>\n",
       "      <td>0.180737</td>\n",
       "      <td>0.289559</td>\n",
       "      <td>0.767500</td>\n",
       "      <td>-0.002943</td>\n",
       "    </tr>\n",
       "    <tr>\n",
       "      <th>3</th>\n",
       "      <td>(10.583364246115156, 105.23946127195805)</td>\n",
       "      <td>0.001572</td>\n",
       "      <td>0.009353</td>\n",
       "      <td>0.218368</td>\n",
       "      <td>0.411636</td>\n",
       "      <td>0.613002</td>\n",
       "      <td>0.287590</td>\n",
       "    </tr>\n",
       "    <tr>\n",
       "      <th>4</th>\n",
       "      <td>(10.20744446668854, 105.26844107128906)</td>\n",
       "      <td>0.028073</td>\n",
       "      <td>0.150525</td>\n",
       "      <td>0.249271</td>\n",
       "      <td>0.680642</td>\n",
       "      <td>0.865726</td>\n",
       "      <td>0.358249</td>\n",
       "    </tr>\n",
       "  </tbody>\n",
       "</table>\n",
       "</div>"
      ],
      "text/plain": [
       "                     Latitude and Longitude        vh        vv       RVI  \\\n",
       "0   (10.18019073690894, 105.32022315786804)  0.007541  0.230875  0.022502   \n",
       "1  (10.561107033461816, 105.12772097986661)  0.004003  0.083652  0.039041   \n",
       "2  (10.623790611954897, 105.13771401411867)  0.027154  0.186894  0.180737   \n",
       "3  (10.583364246115156, 105.23946127195805)  0.001572  0.009353  0.218368   \n",
       "4   (10.20744446668854, 105.26844107128906)  0.028073  0.150525  0.249271   \n",
       "\n",
       "   ndvi_mean  ndvi_max  ndvi_min  \n",
       "0   0.650296  0.829748  0.186204  \n",
       "1   0.577806  0.700386  0.430831  \n",
       "2   0.289559  0.767500 -0.002943  \n",
       "3   0.411636  0.613002  0.287590  \n",
       "4   0.680642  0.865726  0.358249  "
      ]
     },
     "execution_count": 5,
     "metadata": {},
     "output_type": "execute_result"
    }
   ],
   "source": [
    "crop_data_ndvi = pd.merge(crop_data_ndvi, ndvi, left_index=True, right_index=True)\n",
    "\n",
    "crop_data_ndvi.head()"
   ]
  },
  {
   "cell_type": "code",
   "execution_count": 6,
   "metadata": {},
   "outputs": [
    {
     "data": {
      "text/plain": [
       "(250, 7)"
      ]
     },
     "execution_count": 6,
     "metadata": {},
     "output_type": "execute_result"
    }
   ],
   "source": [
    "crop_data_ndvi.shape"
   ]
  },
  {
   "cell_type": "code",
   "execution_count": 7,
   "metadata": {},
   "outputs": [],
   "source": [
    "crop_data_ndvi.to_csv('./data/ndvi/validation_data_ndvi.csv', index=False)"
   ]
  }
 ],
 "metadata": {
  "kernelspec": {
   "display_name": "Python 3",
   "language": "python",
   "name": "python3"
  },
  "language_info": {
   "codemirror_mode": {
    "name": "ipython",
    "version": 3
   },
   "file_extension": ".py",
   "mimetype": "text/x-python",
   "name": "python",
   "nbconvert_exporter": "python",
   "pygments_lexer": "ipython3",
   "version": "3.10.7"
  },
  "orig_nbformat": 4
 },
 "nbformat": 4,
 "nbformat_minor": 2
}
