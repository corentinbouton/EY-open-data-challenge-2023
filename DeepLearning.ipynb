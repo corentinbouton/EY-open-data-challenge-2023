{
 "cells": [
  {
   "cell_type": "code",
   "execution_count": 21,
   "metadata": {},
   "outputs": [],
   "source": [
    "import pandas as pd\n",
    "\n",
    "from sklearn.model_selection import train_test_split, GridSearchCV\n",
    "from sklearn.metrics import classification_report, accuracy_score\n",
    "from sklearn.preprocessing import Normalizer\n",
    "\n",
    "import numpy as np\n",
    "\n",
    "from matplotlib import pyplot as plt\n",
    "\n",
    "from keras.models import Sequential\n",
    "from keras.layers import Dense, Flatten, Dropout\n",
    "from keras.losses import BinaryCrossentropy"
   ]
  },
  {
   "cell_type": "code",
   "execution_count": 22,
   "metadata": {},
   "outputs": [],
   "source": [
    "# importing crop data of year 2020\n",
    "crop_data = pd.read_csv('./data/crop_data_ndvi.csv')"
   ]
  },
  {
   "cell_type": "code",
   "execution_count": 23,
   "metadata": {},
   "outputs": [],
   "source": [
    "X = crop_data.drop(columns=['Class of Land', 'Latitude and Longitude']).values\n",
    "y = crop_data['Class of Land'].values"
   ]
  },
  {
   "cell_type": "code",
   "execution_count": 24,
   "metadata": {},
   "outputs": [],
   "source": [
    "X_train, X_test, y_train, y_test = train_test_split(X, y, train_size=0.9)"
   ]
  },
  {
   "cell_type": "code",
   "execution_count": 25,
   "metadata": {},
   "outputs": [],
   "source": [
    "sc = Normalizer()\n",
    "X_train = sc.fit_transform(X_train)\n",
    "X_test = sc.transform(X_test)"
   ]
  },
  {
   "cell_type": "code",
   "execution_count": 26,
   "metadata": {},
   "outputs": [],
   "source": [
    "model = Sequential()\n",
    "model.add(Dense(9, input_shape=(4,), activation='relu'))\n",
    "model.add(Dense(9, activation='relu'))\n",
    "model.add(Dense(1, activation='sigmoid'))"
   ]
  },
  {
   "cell_type": "code",
   "execution_count": 27,
   "metadata": {},
   "outputs": [],
   "source": [
    "model.compile(loss=BinaryCrossentropy(), optimizer='adam', metrics=['accuracy'])"
   ]
  },
  {
   "cell_type": "code",
   "execution_count": 28,
   "metadata": {},
   "outputs": [],
   "source": [
    "y_train = np.array([(0 if i == 'Non Rice' else 1) for i in y_train])"
   ]
  },
  {
   "cell_type": "code",
   "execution_count": 29,
   "metadata": {},
   "outputs": [
    {
     "data": {
      "text/plain": [
       "<keras.callbacks.History at 0x294236200>"
      ]
     },
     "execution_count": 29,
     "metadata": {},
     "output_type": "execute_result"
    }
   ],
   "source": [
    "model.fit(X_train, y_train, epochs=200, batch_size=10, verbose=0)"
   ]
  },
  {
   "cell_type": "code",
   "execution_count": 30,
   "metadata": {},
   "outputs": [
    {
     "name": "stdout",
     "output_type": "stream",
     "text": [
      "17/17 [==============================] - 0s 386us/step - loss: 0.3717 - accuracy: 0.8185\n"
     ]
    }
   ],
   "source": [
    "_, accuracy = model.evaluate(X_train, y_train)"
   ]
  },
  {
   "cell_type": "code",
   "execution_count": 31,
   "metadata": {},
   "outputs": [
    {
     "name": "stdout",
     "output_type": "stream",
     "text": [
      "2/2 [==============================] - 0s 973us/step\n"
     ]
    },
    {
     "data": {
      "text/plain": [
       "array([[0.01007826],\n",
       "       [0.5594849 ],\n",
       "       [0.6473487 ],\n",
       "       [0.22604488],\n",
       "       [0.00877778],\n",
       "       [0.6763562 ],\n",
       "       [0.12503871],\n",
       "       [0.899412  ],\n",
       "       [0.09154345],\n",
       "       [0.19724473],\n",
       "       [0.9539272 ],\n",
       "       [0.2195635 ],\n",
       "       [0.01509128],\n",
       "       [0.22645459],\n",
       "       [0.09714784],\n",
       "       [0.41368693],\n",
       "       [0.97496915],\n",
       "       [0.6996785 ],\n",
       "       [0.72829163],\n",
       "       [0.06516482],\n",
       "       [0.95164204],\n",
       "       [0.6525067 ],\n",
       "       [0.9466064 ],\n",
       "       [0.2703688 ],\n",
       "       [0.14554517],\n",
       "       [0.92712057],\n",
       "       [0.9250406 ],\n",
       "       [0.15834892],\n",
       "       [0.13261646],\n",
       "       [0.334951  ],\n",
       "       [0.05318986],\n",
       "       [0.3526592 ],\n",
       "       [0.13571328],\n",
       "       [0.05459886],\n",
       "       [0.14664282],\n",
       "       [0.9816287 ],\n",
       "       [0.9772017 ],\n",
       "       [0.98897547],\n",
       "       [0.3540164 ],\n",
       "       [0.20879078],\n",
       "       [0.50789994],\n",
       "       [0.82529646],\n",
       "       [0.98673725],\n",
       "       [0.02513067],\n",
       "       [0.10305676],\n",
       "       [0.05124763],\n",
       "       [0.76310223],\n",
       "       [0.02321257],\n",
       "       [0.00560136],\n",
       "       [0.9012118 ],\n",
       "       [0.78034693],\n",
       "       [0.8920426 ],\n",
       "       [0.5202296 ],\n",
       "       [0.10911381],\n",
       "       [0.91481096],\n",
       "       [0.03921565],\n",
       "       [0.9931726 ],\n",
       "       [0.8323548 ],\n",
       "       [0.28673187],\n",
       "       [0.1319157 ]], dtype=float32)"
      ]
     },
     "execution_count": 31,
     "metadata": {},
     "output_type": "execute_result"
    }
   ],
   "source": [
    "y_pred = model.predict(X_test)\n",
    "\n",
    "y_pred"
   ]
  }
 ],
 "metadata": {
  "kernelspec": {
   "display_name": "Python 3",
   "language": "python",
   "name": "python3"
  },
  "language_info": {
   "codemirror_mode": {
    "name": "ipython",
    "version": 3
   },
   "file_extension": ".py",
   "mimetype": "text/x-python",
   "name": "python",
   "nbconvert_exporter": "python",
   "pygments_lexer": "ipython3",
   "version": "3.10.7"
  },
  "orig_nbformat": 4
 },
 "nbformat": 4,
 "nbformat_minor": 2
}
